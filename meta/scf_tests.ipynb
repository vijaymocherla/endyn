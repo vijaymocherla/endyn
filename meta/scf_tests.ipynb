{
 "cells": [
  {
   "cell_type": "code",
   "execution_count": 1,
   "metadata": {},
   "outputs": [],
   "source": [
    "import numpy as np\n",
    "from pyci.utils import AOint\n",
    "from pyci.linalg import blas, lapack\n",
    "molfile = '.xyz/He.xyz'"
   ]
  },
  {
   "cell_type": "code",
   "execution_count": 2,
   "metadata": {},
   "outputs": [],
   "source": [
    "aoint = AOint('aug-cc-pvdz', molfile, wd='./', ncore=11, psi4mem='210 Gb', numpymem=210,\n",
    "                         custom_basis=False,  psi4options={'puream': False})\n"
   ]
  },
  {
   "cell_type": "code",
   "execution_count": 8,
   "metadata": {},
   "outputs": [],
   "source": [
    "import os\n",
    "\n",
    "def orthonormalize(S):\n",
    "    # check_overlap = np.allclose(np.diag(S), np.ones(S.shape[0]))\n",
    "    # if not check_overlap:\n",
    "    #     raise Exception('Improper overlap matrix was given.')\n",
    "    svals, svecs = np.linalg.eigh(S)\n",
    "    X = lapack.dinv(np.diag(np.sqrt(svals)))\n",
    "    X = blas.dmul_mmm(svecs, X, svecs.T)\n",
    "    S_p = blas.dmul_mmm(X.T, S, X)\n",
    "    # Checking if orthonormalised\n",
    "    check_overlap = np.allclose(S_p, np.eye(S.shape[0]), atol=1e-08)\n",
    "    if not check_overlap:\n",
    "        raise Exception(\"There's something wrong with the transformation.\")\n",
    "    return S_p, X\n",
    "\n",
    "\n",
    "def SCF(AOint, scfoptions={}):\n",
    "    options = {\n",
    "        'maxiter': 75,\n",
    "        'e_convergence': 1e-12,\n",
    "        'd_convergence': 1e-10,\n",
    "        'diis': True,\n",
    "        'diis_iter': 15,\n",
    "    }\n",
    "    options.update(scfoptions)\n",
    "    if not os.path.isfile(AOint.scratch+'ao_oeints.npz'):\n",
    "        AOint.save_ao_oeints()\n",
    "    if not os.path.isfile(AOint.scratch+'ao_erints.npz'):\n",
    "        AOint.save_ao_erints()\n",
    "    S, T, V = AOint.get_ao_oeints()\n",
    "    I = AOint.get_ao_erints()\n",
    "    H = T + V\n",
    "    S_p, X = orthonormalize(S)\n",
    "    F_p = blas.dmul_mmm(X.T, H, X)\n",
    "    eps_p, C_p = np.linalg.eigh(F_p)\n",
    "    C = blas.dmul_mm(X, C_p)\n",
    "    nel = (AOint.wfn.nalpha() + AOint.wfn.nbeta())\n",
    "    nmo = AOint.wfn.nmo()\n",
    "    if nel % 2:\n",
    "        raise Exception('Open-Shell system passed RHF algorithm.')\n",
    "    ndocc = int(nel/2)\n",
    "    options['nmo'] = nmo\n",
    "    options['ndocc'] = ndocc\n",
    "    C_occ = C[:, :ndocc]\n",
    "    D = blas.dmul_mm(C_occ, C_occ.T)\n",
    "    MAXITER = options.get('maxiter')\n",
    "    DIIS_ITER = options.get('diis_iter') # int(N) if you want to switch of DIIS after 'N' scf cycles \n",
    "    E_CONV = options.get('e_convergence')\n",
    "    D_CONV = options.get('e_convergence')\n",
    "    E_old = 0.0\n",
    "    D_old = np.zeros(D.shape)\n",
    "    SCF_E= 0.0\n",
    "    # begin Iterations\n",
    "    print('==> Starting SCF Iterations <==\\n')\n",
    "    # Trial & Residual Vector Lists\n",
    "    F_list = []\n",
    "    DIIS_RESID = []\n",
    "    # ==> SCF Iterations w/ DIIS <==\n",
    "    for scf_iter in range(1, MAXITER + 1):\n",
    "        # Build Fock matrix\n",
    "        J = np.einsum('pqrs,rs->pq', I, D, optimize=True)\n",
    "        K = np.einsum('prqs,rs->pq', I, D, optimize=True)\n",
    "        F = H + 2*J - K\n",
    "        if scf_iter <= DIIS_ITER:\n",
    "            diis_bool = True\n",
    "            # Build DIIS Residual\n",
    "            diis_r = X.dot(F.dot(D).dot(S) - S.dot(D).dot(F)).dot(X)\n",
    "            # Append trial & residual vectors to lists\n",
    "            F_list.append(F)\n",
    "            DIIS_RESID.append(diis_r)\n",
    "        else:\n",
    "            diis_bool = False\n",
    "        # Compute RHF energy\n",
    "        SCF_E = np.einsum('pq,pq->', (H + F), D, optimize=True)\n",
    "        dE = SCF_E - E_old\n",
    "        dRMS = np.mean(diis_r**2)**0.5\n",
    "        if diis_bool:\n",
    "            diis_str = '   DIIS is ON'\n",
    "        else:\n",
    "            diis_str = '   DIIS is OFF'\n",
    "        print(('SCF Iteration %3d: Energy = %4.16f dE = % 1.5E dRMS = %1.5E' %\n",
    "            (scf_iter, SCF_E, dE, dRMS)) + diis_str)        \n",
    "        # Checking if SCF Converged?\n",
    "        # if (abs(dE) <= E_CONV):\n",
    "        #     break\n",
    "        # Always use Density convergence. \n",
    "        if np.allclose(D, D_old, atol=D_CONV):\n",
    "            break\n",
    "        E_old = SCF_E\n",
    "        D_old = D\n",
    "        if scf_iter >= 2:\n",
    "            # Build B matrix\n",
    "            B_dim = len(F_list) + 1\n",
    "            B = np.empty((B_dim, B_dim))\n",
    "            B[-1, :] = -1\n",
    "            B[:, -1] = -1\n",
    "            B[-1, -1] = 0\n",
    "            for i in range(len(F_list)):\n",
    "                for j in range(len(F_list)):\n",
    "                    B[i, j] = np.einsum('ij,ij->', DIIS_RESID[i],\n",
    "                                        DIIS_RESID[j], optimize=True)\n",
    "            # Build RHS of Pulay equation\n",
    "            rhs = np.zeros((B_dim))\n",
    "            rhs[-1] = -1\n",
    "            # Solve Pulay equation for c_i's with NumPy\n",
    "            coeff = lapack.dsolve(B, rhs)\n",
    "            # Build DIIS Fock matrix\n",
    "            F = np.zeros_like(F)\n",
    "            for x in range(coeff.shape[0] - 1):\n",
    "                F += coeff[x] * F_list[x]\n",
    "\n",
    "        # Compute new orbital guess with DIIS Fock matrix\n",
    "        F_p = X.dot(F).dot(X)\n",
    "        e, C_p = np.linalg.eigh(F_p)\n",
    "        C = X.dot(C_p)\n",
    "        ndocc = options.get('ndocc')\n",
    "        C_occ = C[:, :ndocc]\n",
    "        D = np.einsum('pi,qi->pq', C_occ, C_occ, optimize=True)\n",
    "        # MAXITER exceeded?\n",
    "        if (scf_iter == MAXITER):\n",
    "            raise Exception(\"Maximum number of SCF iterations exceeded.\")\n",
    "    # Post iterations\n",
    "    print('\\nSCF converged.')\n",
    "    print('Final RHF Energy: %.12f [Eh]' % SCF_E)\n",
    "    return SCF_E, C\n"
   ]
  },
  {
   "cell_type": "code",
   "execution_count": 9,
   "metadata": {},
   "outputs": [
    {
     "name": "stdout",
     "output_type": "stream",
     "text": [
      "Size of the ERI tensor will be 0.00 Gb\n",
      "\n",
      "==> Starting SCF Iterations <==\n",
      "\n",
      "SCF Iteration   1: Energy = -2.7425529292621791 dE = -2.74255E+00 dRMS = 5.33318E-02   DIIS is ON\n",
      "SCF Iteration   2: Energy = -2.8546341202662924 dE = -1.12081E-01 dRMS = 4.62690E-03   DIIS is ON\n",
      "SCF Iteration   3: Energy = -2.8556953746537030 dE = -1.06125E-03 dRMS = 3.29923E-04   DIIS is ON\n",
      "SCF Iteration   4: Energy = -2.8557046531332198 dE = -9.27848E-06 dRMS = 1.36690E-05   DIIS is ON\n",
      "SCF Iteration   5: Energy = -2.8557046677103792 dE = -1.45772E-08 dRMS = 2.80185E-08   DIIS is ON\n",
      "SCF Iteration   6: Energy = -2.8557046677075077 dE =  2.87148E-12 dRMS = 2.21924E-07   DIIS is ON\n",
      "SCF Iteration   7: Energy = -2.8557046677104143 dE = -2.90656E-12 dRMS = 1.52191E-08   DIIS is ON\n",
      "SCF Iteration   8: Energy = -2.8557046677104152 dE = -8.88178E-16 dRMS = 1.45117E-08   DIIS is ON\n",
      "\n",
      "SCF converged.\n",
      "Final RHF Energy: -2.855704667710 [Eh]\n"
     ]
    }
   ],
   "source": [
    "scf_e, C = SCF(aoint)"
   ]
  },
  {
   "cell_type": "code",
   "execution_count": 10,
   "metadata": {},
   "outputs": [],
   "source": [
    "import psi4"
   ]
  },
  {
   "cell_type": "code",
   "execution_count": 11,
   "metadata": {},
   "outputs": [],
   "source": [
    "psi4energy = psi4.energy('hf') "
   ]
  },
  {
   "cell_type": "code",
   "execution_count": 12,
   "metadata": {},
   "outputs": [
    {
     "name": "stdout",
     "output_type": "stream",
     "text": [
      "-2.855704667710415 -2.855704667710431 1.5987211554602254e-14\n"
     ]
    }
   ],
   "source": [
    "pyci_e = scf_e + aoint.mol.nuclear_repulsion_energy()\n",
    "print(pyci_e, psi4energy, abs(pyci_e- psi4energy))\n"
   ]
  },
  {
   "cell_type": "code",
   "execution_count": null,
   "metadata": {},
   "outputs": [],
   "source": []
  }
 ],
 "metadata": {
  "kernelspec": {
   "display_name": "Python 3.8.12 ('p4env')",
   "language": "python",
   "name": "python3"
  },
  "language_info": {
   "codemirror_mode": {
    "name": "ipython",
    "version": 3
   },
   "file_extension": ".py",
   "mimetype": "text/x-python",
   "name": "python",
   "nbconvert_exporter": "python",
   "pygments_lexer": "ipython3",
   "version": "3.8.12"
  },
  "orig_nbformat": 4,
  "vscode": {
   "interpreter": {
    "hash": "3e7abe4ffeaeb1a3be4ee566368b7c52e06f13f5c3e16f57a0c7a33f3f47eefc"
   }
  }
 },
 "nbformat": 4,
 "nbformat_minor": 2
}
