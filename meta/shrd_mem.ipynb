{
 "cells": [
  {
   "cell_type": "markdown",
   "metadata": {},
   "source": [
    "# Shared memory parallelization\n",
    "\n",
    "Source: https://research.wmz.ninja/articles/2018/03/on-sharing-large-arrays-when-using-pythons-multiprocessing.html"
   ]
  },
  {
   "cell_type": "code",
   "execution_count": null,
   "metadata": {},
   "outputs": [],
   "source": [
    "from multiprocessing import RawArray"
   ]
  },
  {
   "cell_type": "code",
   "execution_count": null,
   "metadata": {},
   "outputs": [],
   "source": [
    "eris = RawArray('d', 100)"
   ]
  },
  {
   "cell_type": "code",
   "execution_count": null,
   "metadata": {},
   "outputs": [],
   "source": [
    "import numpy as np\n",
    "eris_shape = (100,100,100,100)\n",
    "data = np.random.rand(*eris_shape)\n",
    "eris = RawArray('d', eris_shape[0]**4)\n",
    "eris_np = np.frombuffer(eris, dtype=np.float64).reshape(eris_shape)\n",
    "np.copyto(eris_np, data)"
   ]
  },
  {
   "cell_type": "code",
   "execution_count": null,
   "metadata": {},
   "outputs": [],
   "source": [
    "import numpy as np\n",
    "import time\n",
    "from multiprocessing import Pool, RawArray\n",
    "\n",
    "# A global dictionary storing the variables passed from the initializer.\n",
    "var_dict = {}\n",
    "\n",
    "def init_worker(X, X_shape):\n",
    "    # Using a dictionary is not strictly necessary. You can also\n",
    "    # use global variables.\n",
    "    var_dict['X'] = X\n",
    "    var_dict['X_shape'] = X_shape\n",
    "\n",
    "def worker_func(i):\n",
    "    # Simply computes the sum of the i-th row of the input matrix X\n",
    "    X_np = np.frombuffer(var_dict['X']).reshape(var_dict['X_shape'])\n",
    "    time.sleep(1) # Some heavy computations\n",
    "    return np.asscalar(np.sum(X_np[i,:]))\n",
    "\n",
    "# We need this check for Windows to prevent infinitely spawning new child\n",
    "# processes.\n",
    "if __name__ == '__main__':\n",
    "    X_shape = (16, 1000000)\n",
    "    # Randomly generate some data\n",
    "    data = np.random.randn(*X_shape)\n",
    "    X = RawArray('d', X_shape[0] * X_shape[1])\n",
    "    # Wrap X as an numpy array so we can easily manipulates its data.\n",
    "    X_np = np.frombuffer(X).reshape(X_shape)\n",
    "    # Copy data to our shared array.\n",
    "    np.copyto(X_np, data)\n",
    "    # Start the process pool and do the computation.\n",
    "    # Here we pass X and X_shape to the initializer of each worker.\n",
    "    # (Because X_shape is not a shared variable, it will be copied to each\n",
    "    # child process.)\n",
    "    with Pool(processes=4, initializer=init_worker, initargs=(X, X_shape)) as pool:\n",
    "        result = pool.map(worker_func, range(X_shape[0]))\n",
    "        print('Results (pool):\\n', np.array(result))\n",
    "    # Should print the same results.\n",
    "    print('Results (numpy):\\n', np.sum(X_np, 1))"
   ]
  },
  {
   "cell_type": "code",
   "execution_count": null,
   "metadata": {},
   "outputs": [],
   "source": []
  }
 ],
 "metadata": {
  "kernelspec": {
   "display_name": "Python 3.8.12 ('p4env')",
   "language": "python",
   "name": "python3"
  },
  "language_info": {
   "codemirror_mode": {
    "name": "ipython",
    "version": 3
   },
   "file_extension": ".py",
   "mimetype": "text/x-python",
   "name": "python",
   "nbconvert_exporter": "python",
   "pygments_lexer": "ipython3",
   "version": "3.8.12"
  },
  "orig_nbformat": 4,
  "vscode": {
   "interpreter": {
    "hash": "3e7abe4ffeaeb1a3be4ee566368b7c52e06f13f5c3e16f57a0c7a33f3f47eefc"
   }
  }
 },
 "nbformat": 4,
 "nbformat_minor": 2
}
