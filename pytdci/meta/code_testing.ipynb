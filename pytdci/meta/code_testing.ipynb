{
 "cells": [
  {
   "cell_type": "code",
   "execution_count": 1,
   "id": "d22025f7",
   "metadata": {},
   "outputs": [
    {
     "name": "stdout",
     "output_type": "stream",
     "text": [
      "  Threads set to 3 by Python driver.\n"
     ]
    }
   ],
   "source": [
    "import psi4 \n",
    "import numpy as np\n",
    "\n",
    "psi4.set_options({'basis':        'aug-cc-pvdz',\n",
    "                  'scf_type':     'pk',\n",
    "                  'reference':    'rhf',\n",
    "                  'e_convergence': 1e-14,\n",
    "                  'd_convergence': 1e-8\n",
    "                })\n",
    "mol = psi4.geometry(\"\"\"\n",
    "C        0.000000    0.000000   -0.136477                                                                                                        \n",
    "Li       0.000000    0.000000   -2.085527                                           \n",
    "N        0.000000    0.000000    1.010778\n",
    "\n",
    "units angstrom\n",
    "\"\"\")\n",
    "psi4.core.set_num_threads(3)"
   ]
  },
  {
   "cell_type": "code",
   "execution_count": 2,
   "id": "caa1b4a3",
   "metadata": {},
   "outputs": [
    {
     "name": "stdout",
     "output_type": "stream",
     "text": [
      "\n",
      "Scratch directory: /home/dwave/psi4-scratch/files/\n",
      "\n",
      "*** tstart() called on dwave-Precision-Tower-3620\n",
      "*** at Wed Jan 19 16:52:37 2022\n",
      "\n",
      "   => Loading Basis Set <=\n",
      "\n",
      "    Name: AUG-CC-PVDZ\n",
      "    Role: ORBITAL\n",
      "    Keyword: BASIS\n",
      "    atoms 1 entry C          line   182 file /home/dwave/software/psi4/objdir/stage/share/psi4/basis/aug-cc-pvdz.gbs \n",
      "    atoms 2 entry LI         line    68 file /home/dwave/software/psi4/objdir/stage/share/psi4/basis/aug-cc-pvdz.gbs \n",
      "    atoms 3 entry N          line   218 file /home/dwave/software/psi4/objdir/stage/share/psi4/basis/aug-cc-pvdz.gbs \n",
      "\n",
      "\n",
      "         ---------------------------------------------------------\n",
      "                                   SCF\n",
      "               by Justin Turney, Rob Parrish, Andy Simmonett\n",
      "                          and Daniel G. A. Smith\n",
      "                              RHF Reference\n",
      "                        3 Threads,    500 MiB Core\n",
      "         ---------------------------------------------------------\n",
      "\n",
      "  ==> Geometry <==\n",
      "\n",
      "    Molecular point group: c2v\n",
      "    Full point group: C_inf_v\n",
      "\n",
      "    Geometry (in Angstrom), charge = 0, multiplicity = 1:\n",
      "\n",
      "       Center              X                  Y                   Z               Mass       \n",
      "    ------------   -----------------  -----------------  -----------------  -----------------\n",
      "         C            0.000000000000     0.000000000000    -0.072399211429    12.000000000000\n",
      "         LI           0.000000000000     0.000000000000    -2.021449211429     7.016003436600\n",
      "         N            0.000000000000     0.000000000000     1.074855788571    14.003074004430\n",
      "\n",
      "  Running in c2v symmetry.\n",
      "\n",
      "  Rotational constants: A = ************  B =      0.37536  C =      0.37536 [cm^-1]\n",
      "  Rotational constants: A = ************  B =  11253.13759  C =  11253.13759 [MHz]\n",
      "  Nuclear repulsion =   27.848834207996322\n",
      "\n",
      "  Charge       = 0\n",
      "  Multiplicity = 1\n",
      "  Electrons    = 16\n",
      "  Nalpha       = 8\n",
      "  Nbeta        = 8\n",
      "\n",
      "  ==> Algorithm <==\n",
      "\n",
      "  SCF Algorithm Type is PK.\n",
      "  DIIS enabled.\n",
      "  MOM disabled.\n",
      "  Fractional occupation disabled.\n",
      "  Guess Type is SAD.\n",
      "  Energy threshold   = 1.00e-14\n",
      "  Density threshold  = 1.00e-08\n",
      "  Integral threshold = 1.00e-12\n",
      "\n",
      "  ==> Primary Basis <==\n",
      "\n",
      "  Basis Set: AUG-CC-PVDZ\n",
      "    Blend: AUG-CC-PVDZ\n",
      "    Number of shells: 27\n",
      "    Number of basis functions: 69\n",
      "    Number of Cartesian functions: 75\n",
      "    Spherical Harmonics?: true\n",
      "    Max angular momentum: 2\n",
      "\n",
      "  ==> Integral Setup <==\n",
      "\n",
      "  Using in-core PK algorithm.\n",
      "   Calculation information:\n",
      "      Number of atoms:                   3\n",
      "      Number of AO shells:              27\n",
      "      Number of primitives:             78\n",
      "      Number of atomic orbitals:        75\n",
      "      Number of basis functions:        69\n",
      "\n",
      "      Integral cutoff                 1.00e-12\n",
      "      Number of threads:                 3\n",
      "\n",
      "  Performing in-core PK\n",
      "  Using 5834640 doubles for integral storage.\n",
      "  We computed 84600 shell quartets total.\n",
      "  Whereas there are 71631 unique shell quartets.\n",
      "    18.11 percent of shell quartets recomputed by reordering.\n",
      "\n",
      "  ==> DiskJK: Disk-Based J/K Matrices <==\n",
      "\n",
      "    J tasked:                  Yes\n",
      "    K tasked:                  Yes\n",
      "    wK tasked:                  No\n",
      "    Memory [MiB]:              375\n",
      "    Schwarz Cutoff:          1E-12\n",
      "\n",
      "    OpenMP threads:              3\n",
      "\n",
      "  Minimum eigenvalue in the overlap matrix is 5.4420503144E-04.\n",
      "  Reciprocal condition number of the overlap matrix is 9.2528288918E-05.\n",
      "    Using symmetric orthogonalization.\n",
      "\n",
      "  ==> Pre-Iterations <==\n",
      "\n",
      "  SCF Guess: Superposition of Atomic Densities via on-the-fly atomic UHF (no occupation information).\n",
      "\n",
      "   -------------------------\n",
      "    Irrep   Nso     Nmo    \n",
      "   -------------------------\n",
      "     A1        33      33 \n",
      "     A2         6       6 \n",
      "     B1        15      15 \n",
      "     B2        15      15 \n",
      "   -------------------------\n",
      "    Total      69      69\n",
      "   -------------------------\n",
      "\n",
      "  ==> Iterations <==\n",
      "\n",
      "                        Total Energy        Delta E     RMS |[F,P]|\n",
      "\n",
      "   @RHF iter SAD:   -98.63403419237947   -9.86340e+01   0.00000e+00 \n",
      "   @RHF iter   1:   -99.72553408019361   -1.09150e+00   8.28219e-03 DIIS\n",
      "   @RHF iter   2:   -99.77476102583263   -4.92269e-02   4.72054e-03 DIIS\n",
      "   @RHF iter   3:   -99.78936844954711   -1.46074e-02   1.02137e-03 DIIS\n",
      "   @RHF iter   4:   -99.79017526051442   -8.06811e-04   2.73844e-04 DIIS\n",
      "   @RHF iter   5:   -99.79024660151254   -7.13410e-05   3.98937e-05 DIIS\n",
      "   @RHF iter   6:   -99.79024946977643   -2.86826e-06   1.05587e-05 DIIS\n",
      "   @RHF iter   7:   -99.79024969461868   -2.24842e-07   1.64418e-06 DIIS\n",
      "   @RHF iter   8:   -99.79024969840860   -3.78992e-09   2.72571e-07 DIIS\n",
      "   @RHF iter   9:   -99.79024969851334   -1.04734e-10   1.89402e-08 DIIS\n",
      "   @RHF iter  10:   -99.79024969851403   -6.96332e-13   3.94883e-09 DIIS\n",
      "   @RHF iter  11:   -99.79024969851413   -9.94760e-14   6.43975e-10 DIIS\n",
      "   @RHF iter  12:   -99.79024969851416   -2.84217e-14   7.68834e-11 DIIS\n",
      "   @RHF iter  13:   -99.79024969851417   -1.42109e-14   1.82129e-11 DIIS\n",
      "   @RHF iter  14:   -99.79024969851412    5.68434e-14   2.20639e-12 DIIS\n",
      "   @RHF iter  15:   -99.79024969851413   -1.42109e-14   6.44521e-13 DIIS\n",
      "   @RHF iter  16:   -99.79024969851423   -9.94760e-14   2.63228e-13 DIIS\n",
      "   @RHF iter  17:   -99.79024969851415    8.52651e-14   2.97780e-14 DIIS\n",
      "   @RHF iter  18:   -99.79024969851416   -1.42109e-14   1.53210e-14 DIIS\n",
      "   @RHF iter  19:   -99.79024969851410    5.68434e-14   1.45458e-14 DIIS\n",
      "   @RHF iter  20:   -99.79024969851413   -2.84217e-14   1.28824e-14 DIIS\n",
      "   @RHF iter  21:   -99.79024969851417   -4.26326e-14   1.06890e-14 DIIS\n",
      "   @RHF iter  22:   -99.79024969851405    1.27898e-13   1.98582e-14 DIIS\n",
      "   @RHF iter  23:   -99.79024969851423   -1.84741e-13   1.67354e-14 DIIS\n",
      "   @RHF iter  24:   -99.79024969851419    4.26326e-14   1.07645e-14 DIIS\n",
      "   @RHF iter  25:   -99.79024969851427   -8.52651e-14   1.17642e-14 DIIS\n",
      "   @RHF iter  26:   -99.79024969851403    2.41585e-13   1.10053e-14 DIIS\n",
      "   @RHF iter  27:   -99.79024969851419   -1.56319e-13   1.36406e-14 DIIS\n",
      "   @RHF iter  28:   -99.79024969851405    1.42109e-13   1.15655e-14 DIIS\n",
      "   @RHF iter  29:   -99.79024969851409   -4.26326e-14   8.91633e-15 DIIS\n",
      "   @RHF iter  30:   -99.79024969851415   -5.68434e-14   1.04435e-14 DIIS\n",
      "   @RHF iter  31:   -99.79024969851405    9.94760e-14   1.11839e-14 DIIS\n",
      "   @RHF iter  32:   -99.79024969851422   -1.70530e-13   9.98161e-15 DIIS\n",
      "   @RHF iter  33:   -99.79024969851403    1.84741e-13   1.29716e-14 DIIS\n",
      "   @RHF iter  34:   -99.79024969851405   -1.42109e-14   9.06508e-15 DIIS\n",
      "   @RHF iter  35:   -99.79024969851417   -1.27898e-13   9.77488e-15 DIIS\n",
      "   @RHF iter  36:   -99.79024969851410    7.10543e-14   1.08099e-14 DIIS\n",
      "   @RHF iter  37:   -99.79024969851415   -4.26326e-14   1.14733e-14 DIIS\n",
      "   @RHF iter  38:   -99.79024969851409    5.68434e-14   1.38670e-14 DIIS\n",
      "   @RHF iter  39:   -99.79024969851423   -1.42109e-13   1.48464e-14 DIIS\n",
      "   @RHF iter  40:   -99.79024969851423    0.00000e+00   9.77212e-15 DIIS\n",
      "  Energy and wave function converged.\n",
      "\n",
      "\n",
      "  ==> Post-Iterations <==\n",
      "\n",
      "    Orbital Energies [Eh]\n",
      "    ---------------------\n",
      "\n",
      "    Doubly Occupied:                                                      \n",
      "\n",
      "       1A1   -15.502177     2A1   -11.168442     3A1    -2.500459  \n",
      "       4A1    -1.144505     5A1    -0.552081     6A1    -0.440416  \n",
      "       1B1    -0.400428     1B2    -0.400428  \n",
      "\n",
      "    Virtual:                                                              \n",
      "\n",
      "       7A1    -0.023448     2B1     0.009453     2B2     0.009453  \n",
      "       8A1     0.014018     9A1     0.027575     3B1     0.035700  \n",
      "       3B2     0.035700    10A1     0.063100     4B2     0.121236  \n",
      "       4B1     0.121236    11A1     0.135068    12A1     0.150594  \n",
      "       5B2     0.169291     5B1     0.169291    13A1     0.172558  \n",
      "       1A2     0.172558    14A1     0.193549     6B1     0.210275  \n",
      "       6B2     0.210275    15A1     0.253471     7B1     0.300479  \n",
      "       7B2     0.300479     8B1     0.365012     8B2     0.365012  \n",
      "      16A1     0.376978    17A1     0.388246    18A1     0.447783  \n",
      "       2A2     0.503018    19A1     0.503018     3A2     0.529871  \n",
      "      20A1     0.529871     9B1     0.570551     9B2     0.570551  \n",
      "      21A1     0.675091    10B2     0.716933    10B1     0.716933  \n",
      "      22A1     0.845130    23A1     0.906789     4A2     0.914177  \n",
      "      24A1     0.914177    11B1     0.933671    11B2     0.933671  \n",
      "      12B2     1.118144    12B1     1.118144    25A1     1.199961  \n",
      "      26A1     1.449852    13B2     1.687253    13B1     1.687253  \n",
      "      27A1     1.760222     5A2     1.760222    28A1     1.844058  \n",
      "      14B2     1.975036    14B1     1.975036    29A1     2.018270  \n",
      "      30A1     2.153665     6A2     2.683252    31A1     2.683252  \n",
      "      15B2     2.934423    15B1     2.934423    32A1     2.950097  \n",
      "      33A1     3.492505  \n",
      "\n",
      "    Final Occupation by Irrep:\n",
      "             A1    A2    B1    B2 \n",
      "    DOCC [     6,    0,    1,    1 ]\n",
      "\n",
      "  @RHF Final Energy:   -99.79024969851423\n",
      "\n",
      "   => Energetics <=\n",
      "\n",
      "    Nuclear Repulsion Energy =             27.8488342079963225\n",
      "    One-Electron Energy =                -191.0602942695782076\n",
      "    Two-Electron Energy =                  63.4212103630676438\n",
      "    Total Energy =                        -99.7902496985142307\n",
      "\n",
      "Computation Completed\n",
      "\n",
      "\n",
      "Properties will be evaluated at   0.000000,   0.000000,   0.000000 [a0]\n",
      "\n",
      "Properties computed using the SCF density matrix\n",
      "\n",
      "  Nuclear Dipole Moment: [e a0]\n",
      "     X:     0.0000      Y:     0.0000      Z:     1.9374\n",
      "\n",
      "  Electronic Dipole Moment: [e a0]\n",
      "     X:     0.0000      Y:     0.0000      Z:    -5.7495\n",
      "\n",
      "  Dipole Moment: [e a0]\n",
      "     X:     0.0000      Y:     0.0000      Z:    -3.8120     Total:     3.8120\n",
      "\n",
      "  Dipole Moment: [D]\n",
      "     X:     0.0000      Y:     0.0000      Z:    -9.6893     Total:     9.6893\n",
      "\n",
      "-99.79024969851423\n",
      "*** tstop() called on dwave-Precision-Tower-3620 at Wed Jan 19 16:52:37 2022\n",
      " 27.848834207996322\n"
     ]
    },
    {
     "name": "stdout",
     "output_type": "stream",
     "text": [
      "Module time:\n",
      "\tuser time   =       2.07 seconds =       0.03 minutes\n",
      "\tsystem time =       0.04 seconds =       0.00 minutes\n",
      "\ttotal time  =          0 seconds =       0.00 minutes\n",
      "Total time:\n",
      "\tuser time   =       2.07 seconds =       0.03 minutes\n",
      "\tsystem time =       0.04 seconds =       0.00 minutes\n",
      "\ttotal time  =          0 seconds =       0.00 minutes\n"
     ]
    }
   ],
   "source": [
    "scf_e, scf_wfn = psi4.energy('SCF', return_wfn=True)\n",
    "print(scf_e, mol.nuclear_repulsion_energy())\n",
    "\n",
    "# MO coefficients and energies\n",
    "Ca = np.array(scf_wfn.Ca_subset('AO','ALL'))\n",
    "eps = np.array(scf_wfn.epsilon_a_subset('AO', 'ALL'))\n"
   ]
  },
  {
   "cell_type": "code",
   "execution_count": 3,
   "id": "a0afa95b",
   "metadata": {},
   "outputs": [],
   "source": [
    "mints = psi4.core.MintsHelper(scf_wfn.basisset())\n",
    "# The are 2-electron repulsion intergrals in AO basis\n",
    "ao_erints = np.asarray(mints.ao_eri())"
   ]
  },
  {
   "cell_type": "code",
   "execution_count": 5,
   "id": "469494f6",
   "metadata": {},
   "outputs": [
    {
     "name": "stdout",
     "output_type": "stream",
     "text": [
      "286 ms ± 4.64 ms per loop (mean ± std. dev. of 7 runs, 1 loop each)\n"
     ]
    }
   ],
   "source": [
    "%%timeit\n",
    "mo_erints_n8 = np.einsum('pqrs,pI,qJ,rK,sL->IJKL', ao_erints, Ca, Ca, Ca, Ca, optimize=True)\n"
   ]
  },
  {
   "cell_type": "code",
   "execution_count": 6,
   "id": "e4a9723e",
   "metadata": {},
   "outputs": [
    {
     "name": "stdout",
     "output_type": "stream",
     "text": [
      "7.35 s ± 12 ms per loop (mean ± std. dev. of 7 runs, 1 loop each)\n"
     ]
    }
   ],
   "source": [
    "%%timeit\n",
    "mo_erints = np.einsum('pqrs,pI->Iqrs', ao_erints, Ca)\n",
    "mo_erints = np.einsum('Iqrs,qJ->IJrs', mo_erints, Ca)\n",
    "mo_erints = np.einsum('IJrs,rK->IJKs', mo_erints, Ca)\n",
    "mo_erints = np.einsum('IJKs,sL->IJKL', mo_erints, Ca)"
   ]
  },
  {
   "cell_type": "code",
   "execution_count": 7,
   "id": "eb430c87",
   "metadata": {},
   "outputs": [
    {
     "name": "stdout",
     "output_type": "stream",
     "text": [
      "387 ms ± 5.24 ms per loop (mean ± std. dev. of 7 runs, 1 loop each)\n"
     ]
    }
   ],
   "source": [
    "%%timeit\n",
    "mo_erints = np.einsum('pqrs,pI->Iqrs', ao_erints, Ca, optimize=True)\n",
    "mo_erints = np.einsum('Iqrs,qJ->IJrs', mo_erints, Ca, optimize=True)\n",
    "mo_erints = np.einsum('IJrs,rK->IJKs', mo_erints, Ca, optimize=True)\n",
    "mo_erints = np.einsum('IJKs,sL->IJKL', mo_erints, Ca, optimize=True)"
   ]
  },
  {
   "cell_type": "code",
   "execution_count": 8,
   "id": "4c05ba6a",
   "metadata": {},
   "outputs": [
    {
     "name": "stdout",
     "output_type": "stream",
     "text": [
      "192 ms ± 337 µs per loop (mean ± std. dev. of 7 runs, 10 loops each)\n"
     ]
    }
   ],
   "source": [
    "%%timeit\n",
    "size = Ca.shape[0]\n",
    "mo_erints = np.dot(Ca.T, ao_erints.reshape(size, -1))\n",
    "mo_erints = np.dot(mo_erints.reshape(-1, size), Ca)\n",
    "mo_erints = mo_erints.reshape(size, size, size, size).transpose(1, 0, 3, 2)\n",
    "\n",
    "mo_erints = np.dot(Ca.T, mo_erints.reshape(size, -1))\n",
    "mo_erints = np.dot(mo_erints.reshape(-1, size), Ca)\n",
    "mo_erints = mo_erints.reshape(size, size, size, size).transpose(1, 0, 3, 2)"
   ]
  },
  {
   "cell_type": "code",
   "execution_count": 9,
   "id": "a90a799e",
   "metadata": {},
   "outputs": [
    {
     "ename": "NameError",
     "evalue": "name 'moints' is not defined",
     "output_type": "error",
     "traceback": [
      "\u001b[0;31m---------------------------------------------------------------------------\u001b[0m",
      "\u001b[0;31mNameError\u001b[0m                                 Traceback (most recent call last)",
      "\u001b[0;32m/tmp/ipykernel_1382097/4093980495.py\u001b[0m in \u001b[0;36m<module>\u001b[0;34m\u001b[0m\n\u001b[0;32m----> 1\u001b[0;31m \u001b[0mnp\u001b[0m\u001b[0;34m.\u001b[0m\u001b[0mallclose\u001b[0m\u001b[0;34m(\u001b[0m\u001b[0mmoints\u001b[0m\u001b[0;34m,\u001b[0m \u001b[0mmo_erints\u001b[0m\u001b[0;34m)\u001b[0m\u001b[0;34m\u001b[0m\u001b[0;34m\u001b[0m\u001b[0m\n\u001b[0m",
      "\u001b[0;31mNameError\u001b[0m: name 'moints' is not defined"
     ]
    }
   ],
   "source": [
    "np.allclose(moints, mo_erints)"
   ]
  },
  {
   "cell_type": "code",
   "execution_count": null,
   "id": "ddd59c1d",
   "metadata": {},
   "outputs": [],
   "source": [
    "%%timeit\n",
    "mo_erints = np.einsum('pqrs,pI->Iqrs', ao_erints, Ca, optimize='greedy')\n",
    "mo_erints = np.einsum('Iqrs,qJ->IJrs', mo_erints, Ca, optimize='greedy')\n",
    "mo_erints = np.einsum('IJrs,rK->IJKs', mo_erints, Ca, optimize='greedy')\n",
    "mo_erints = np.einsum('IJKs,sL->IJKL', mo_erints, Ca, optimize='greedy')"
   ]
  },
  {
   "cell_type": "code",
   "execution_count": null,
   "id": "787b9c92",
   "metadata": {},
   "outputs": [],
   "source": [
    "path = np.einsum_path('pqrs,pI->Iqrs', ao_erints, Ca, optimize='optimal')[0]"
   ]
  },
  {
   "cell_type": "code",
   "execution_count": null,
   "id": "90d548e7",
   "metadata": {},
   "outputs": [],
   "source": [
    "%%timeit\n",
    "mo_erints = np.einsum('pqrs,pI->Iqrs', ao_erints, Ca, optimize=path)\n",
    "mo_erints = np.einsum('Iqrs,qJ->IJrs', mo_erints, Ca, optimize=path)\n",
    "mo_erints = np.einsum('IJrs,rK->IJKs', mo_erints, Ca, optimize=path)\n",
    "mo_erints = np.einsum('IJKs,sL->IJKL', mo_erints, Ca, optimize=path)"
   ]
  },
  {
   "cell_type": "code",
   "execution_count": null,
   "id": "dc2104a8",
   "metadata": {},
   "outputs": [],
   "source": [
    "np.allclose(moints, mo_erints)"
   ]
  },
  {
   "cell_type": "code",
   "execution_count": null,
   "id": "39aec35e",
   "metadata": {},
   "outputs": [],
   "source": []
  }
 ],
 "metadata": {
  "kernelspec": {
   "display_name": "Python 3 (ipykernel)",
   "language": "python",
   "name": "python3"
  },
  "language_info": {
   "codemirror_mode": {
    "name": "ipython",
    "version": 3
   },
   "file_extension": ".py",
   "mimetype": "text/x-python",
   "name": "python",
   "nbconvert_exporter": "python",
   "pygments_lexer": "ipython3",
   "version": "3.8.12"
  }
 },
 "nbformat": 4,
 "nbformat_minor": 5
}
