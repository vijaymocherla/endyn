{
 "cells": [
  {
   "cell_type": "code",
   "execution_count": null,
   "id": "dd85fbd0",
   "metadata": {},
   "outputs": [],
   "source": [
    "import numpy as np\n",
    "import pyci\n",
    "import psi4"
   ]
  },
  {
   "cell_type": "code",
   "execution_count": null,
   "id": "7e3806ad",
   "metadata": {},
   "outputs": [],
   "source": [
    "# ! s-type d-aug-cc-pVQZ functions\n",
    "# ! s-type ARO functions\n",
    "# ! p-type d-aug-cc-pVQZ functions\n",
    "# ! p-type ARO functions\n",
    "# ! d-type d-aug-cc-pVQZ functions\n",
    "# ! d-type ARO functions\n",
    "# ! f-type d-aug-cc-pVQZ functions\n",
    "# ! f-type ARO functions\n",
    "basis_dict = {\n",
    "      'basstring': \"\"\"\n",
    "****\n",
    "He     0\n",
    "S    7   1.00\n",
    "    528.5000000              0.0009400\n",
    "     79.3100000              0.0072140\n",
    "     18.0500000              0.0359750\n",
    "      5.0850000              0.1277820\n",
    "      1.6090000              0.3084700\n",
    "      0.5363000              0.4530520\n",
    "      0.1833000              0.2388840\n",
    "S    1   1.00\n",
    "      1.6090000              1.0000000\n",
    "S    1   1.00\n",
    "      0.5363000              1.0000000\n",
    "S    1   1.00\n",
    "      0.1833000              1.0000000\n",
    "S    1   1.00\n",
    "      0.0481900              1.0000000\n",
    "S    1   1.00\n",
    "      0.0127                 1.0000000\n",
    "S    1   1.00\n",
    "      4.142630e-01           1.0000000\n",
    "S    1   1.00\n",
    "      8.204444e-02           1.0000000\n",
    "S    1   1.00\n",
    "      2.244417e-02           1.0000000\n",
    "S    1   1.00\n",
    "      6.908733e-03           1.0000000\n",
    "S    1   1.00\n",
    "      2.252960e-03           1.0000000\n",
    "S    1   1.00\n",
    "      6.972017e-04           1.0000000\n",
    "P    1   1.00\n",
    "      5.9940000              1.0000000\n",
    "P    1   1.00\n",
    "      1.7450000              1.0000000\n",
    "P    1   1.00\n",
    "      0.5600000              1.0000000\n",
    "P    1   1.00\n",
    "      0.1626000              1.0000000\n",
    "P    1   1.00\n",
    "      0.0472                 1.0000000\n",
    "P    1   1.00\n",
    "      4.442081e-01           1.0000000\n",
    "P    1   1.00\n",
    "      9.422795e-02           1.0000000\n",
    "P    1   1.00\n",
    "      2.719846e-02           1.0000000\n",
    "P    1   1.00\n",
    "      8.859505e-03           1.0000000\n",
    "P    1   1.00\n",
    "      3.080030e-03           1.0000000\n",
    "P    1   1.00\n",
    "      1.066130e-03           1.0000000\n",
    "D    1   1.00\n",
    "      4.2990000              1.0000000\n",
    "D    1   1.00\n",
    "      1.2230000              1.0000000\n",
    "D    1   1.00\n",
    "      0.3510000              1.0000000\n",
    "D    1   1.00\n",
    "      0.101                  1.0000000\n",
    "D    1   1.00\n",
    "      3.348153e-01           1.0000000\n",
    "D    1   1.00\n",
    "      8.135966e-02           1.0000000\n",
    "D    1   1.00\n",
    "      2.631020e-02           1.0000000\n",
    "D    1   1.00\n",
    "      9.484616e-03           1.0000000\n",
    "D    1   1.00\n",
    "      3.635094e-03           1.0000000\n",
    "D    1   1.00\n",
    "      1.407186e-03           1.0000000\n",
    "F    1   1.00\n",
    "      2.6800000              1.0000000\n",
    "F    1   1.00\n",
    "      0.6906000              1.0000000\n",
    "F    1   1.00\n",
    "      0.178                  1.0000000\n",
    "F    1   1.00\n",
    "      3.463980e-01           1.0000000\n",
    "F    1   1.00\n",
    "      8.331040e-02           1.0000000\n",
    "F    1   1.00\n",
    "      2.805333e-02           1.0000000\n",
    "F    1   1.00\n",
    "      1.056283e-02           1.0000000\n",
    "F    1   1.00\n",
    "      4.235223e-03           1.0000000\n",
    "F    1   1.00\n",
    "      1.732138e-03           1.0000000\n",
    "****\n",
    "\"\"\",\n",
    "}"
   ]
  },
  {
   "cell_type": "code",
   "execution_count": null,
   "id": "3defc666",
   "metadata": {},
   "outputs": [],
   "source": [
    "# Lets intiate AOint() a subclass of psi4utils()\n",
    "basis = 'd-aug-cc-pvqz'\n",
    "molfile = '../.xyz/He.xyz'\n",
    "mol = pyci.utils.molecule(basis, molfile, wd='./', \n",
    "                 psi4mem='2 Gb', numpymem=2, \n",
    "                 custom_basis=False, basis_dict=None,\n",
    "                 store_wfn=False, properties=['dipoles']) \n"
   ]
  },
  {
   "cell_type": "code",
   "execution_count": null,
   "id": "457c146e",
   "metadata": {},
   "outputs": [],
   "source": [
    "cisd = pyci.configint.CISD(mol,{'doubles':False})"
   ]
  },
  {
   "cell_type": "code",
   "execution_count": null,
   "id": "04304b1d",
   "metadata": {},
   "outputs": [],
   "source": [
    "HCISD = cisd.HCISD\n",
    "HCISD0 = HCISD - mol.scf_energy*np.eye(sum(cisd.num_csfs))\n",
    "cisd_pyci = cisd.energy()\n",
    "if cisd.options['doubles']:\n",
    "    cisd_psi4 = psi4.energy('CISD')\n",
    "else:\n",
    "    cisd_psi4 = psi4.energy('scf')\n",
    "print(\"pyci CISD E0: {e:16.16f}\".format(e=cisd_pyci))\n",
    "print(\"psi4 CISD E0: {e:16.16f}\".format(e=cisd_psi4))\n",
    "print(\"dE : {dE:1.2E}\".format(dE=abs(cisd_psi4- cisd_pyci)))"
   ]
  },
  {
   "cell_type": "code",
   "execution_count": null,
   "id": "d9562f62",
   "metadata": {},
   "outputs": [],
   "source": [
    "csf_dpx, csf_dpy, csf_dpz = cisd.get_dipoles()"
   ]
  },
  {
   "cell_type": "code",
   "execution_count": null,
   "id": "7445f69b",
   "metadata": {},
   "outputs": [],
   "source": [
    "vals, vecs = cisd.get_eigen()"
   ]
  },
  {
   "cell_type": "code",
   "execution_count": null,
   "id": "8a4fa0f2",
   "metadata": {},
   "outputs": [],
   "source": [
    "from pyci.tdci import excite\n",
    "fs_to_au = 41.341374575751\n",
    "ti = 0.0 \n",
    "tf = 20.0*fs_to_au\n",
    "dt = 0.0001*fs_to_au \n",
    "sigma = 5.1*fs_to_au\n",
    "E0 = 0.07549\n",
    "w0 = 0.056\n",
    "phase = 0.0\n",
    "psi0 = vecs[0]\n",
    "time_params =  ti, tf, dt"
   ]
  },
  {
   "cell_type": "code",
   "execution_count": 9,
   "id": "111e511b",
   "metadata": {},
   "outputs": [],
   "source": [
    "# Ruge Kutta\n",
    "from pyci.integrators import RK4\n",
    "laser_params = E0, w0, ti, 2*sigma, sigma, phase\n",
    "func = lambda t :  -1j * (HCISD0 - excite.sin2_pulse(t, laser_params)*csf_dpz)\n",
    "propagator = RK4(func, psi0, time_params)\n",
    "propagator._time_propagation(ops_list=[csf_dpx, csf_dpy, csf_dpz, HCISD], \n",
    "                            ops_headers=['dpx', 'dpy', 'dpz', 'energy'], \n",
    "                            print_nstep= 100, outfile='rk4_tdprop.txt')"
   ]
  },
  {
   "cell_type": "code",
   "execution_count": null,
   "id": "339e9e99",
   "metadata": {},
   "outputs": [],
   "source": [
    "# Split Operator\n",
    "from pyci.integrators.splitoperator import SplitOperator \n",
    "laser_params = E0, w0, ti, 2*sigma, sigma, phase\n",
    "func = lambda t : (excite.sin2_pulse(t, laser_params)*csf_dpz)\n",
    "psi0 = vecs[0]\n",
    "time_params =  ti, tf, dt\n",
    "propagator = SplitOperator(vals, vecs, func, psi0, time_params)\n",
    "propagator._time_propagation(ops_list=[csf_dpx, csf_dpy, csf_dpz, HCISD], \n",
    "                            ops_headers=['dpx', 'dpy', 'dpz', 'energy'], \n",
    "                            print_nstep= 100, outfile='so_tdprop.txt')"
   ]
  },
  {
   "cell_type": "code",
   "execution_count": null,
   "id": "a1cf0699",
   "metadata": {},
   "outputs": [],
   "source": [
    "# Heuristic Lifetime model\n",
    "from pyci.tdci.lifetime import heuristic\n",
    "model = heuristic(vals, vecs, cisd.csfs, mol.mo_eps[0])\n",
    "IP = 0.90357185430291 # 24.587387 eV\n",
    "ip_params = E0, w0, IP\n",
    "cmplx_vals = model.cmplx_energies(ip_params, use_d2=False)\n"
   ]
  },
  {
   "cell_type": "code",
   "execution_count": null,
   "id": "a503ba3c",
   "metadata": {},
   "outputs": [],
   "source": [
    "# Split Operator with lifetimes\n",
    "from pyci.integrators.splitoperator import SplitOperator \n",
    "func = lambda t : excite.sin2_pulse(t, laser_params)*csf_dpz\n",
    "psi0 = vecs[0]\n",
    "time_params =  ti, tf, dt\n",
    "propagator = SplitOperator(cmplx_vals, vecs, func, psi0, time_params)\n",
    "propagator._time_propagation(ops_list=[csf_dpx, csf_dpy, csf_dpz, HCISD], \n",
    "                            ops_headers=['dpx', 'dpy', 'dpz', 'energy'], \n",
    "                            print_nstep= 100, outfile='lt_so_tdprop.txt')"
   ]
  },
  {
   "cell_type": "code",
   "execution_count": null,
   "id": "4acf1753",
   "metadata": {},
   "outputs": [],
   "source": [
    "import numpy as np\n",
    "import matplotlib.pyplot as plt\n",
    "rk4_data = np.loadtxt('rk4_tdprop.txt',skiprows=1)\n",
    "so_data = np.loadtxt('so_tdprop.txt',skiprows=1)\n",
    "lt_so_data = np.loadtxt('lt_so_tdprop.txt',skiprows=1)\n",
    "plt.figure(figsize=(10,8), facecolor='white')\n",
    "plt.plot(rk4_data[:,0],rk4_data[:,4], '--', label='RK4 w/o lifetime')\n",
    "plt.plot(so_data[:,0],so_data[:,4], '--', label='SO w/o lifetime')\n",
    "plt.plot(lt_so_data[:,0],lt_so_data[:,4], '-.',label='w/ lifetime')\n",
    "plt.legend()"
   ]
  },
  {
   "cell_type": "code",
   "execution_count": null,
   "id": "2f40dfd4",
   "metadata": {},
   "outputs": [],
   "source": [
    "i = 5\n",
    "plt.figure(figsize=(10,8), facecolor='white')\n",
    "plt.plot(rk4_data[:,0], rk4_data[:,i]-rk4_data[0,i], '--', label='RK4 w/o lifetime')\n",
    "plt.plot(so_data[:,0], so_data[:,i]-so_data[0,i], '--', label='SO w/o lifetime')\n",
    "plt.plot(lt_so_data[:,0], lt_so_data[:,i]-lt_so_data[0,i], '-.',label='w/ lifetime')\n",
    "plt.legend()"
   ]
  },
  {
   "cell_type": "code",
   "execution_count": null,
   "id": "76314ad2",
   "metadata": {},
   "outputs": [],
   "source": [
    "from pyci.tdci import analysis\n",
    "def get_hhg_data(filename):\n",
    "    time_fs, dipoles, energy, norm = analysis.get_prop_data(filename)\n",
    "    dpz = dipoles[2]\n",
    "    dpz_vel, dpz_acc = analysis.calc_moments(time_fs,dpz)\n",
    "    freq, G_obs, G_obs_vel, G_obs_acc = analysis.calc_Gobs(time_fs, dpz, \n",
    "                                                return_moments=True, \n",
    "                                                obs_vel=dpz_vel, \n",
    "                                                obs_acc=dpz_acc, dt_fs=1e-4)\n",
    "    return freq, G_obs, G_obs_vel, G_obs_acc     \n",
    "\n",
    "fig, axes = plt.subplots(3,2, facecolor='white',figsize=(12,10))\n",
    "freq_so, G_obs_so, G_obs_vel_so, G_obs_acc_so = get_hhg_data('so_tdprop.txt')\n",
    "freq_lt_so, G_obs_lt_so, G_obs_vel_lt_so, G_obs_acc_lt_so = get_hhg_data('lt_so_tdprop.txt')\n",
    "analysis.plot_hhg(freq_so, G_obs_so, G_obs_vel_so, G_obs_acc_so, axes[:,0], xmax=25, label='w/o lifetimes')\n",
    "analysis.plot_hhg(freq_lt_so, G_obs_lt_so, G_obs_vel_lt_so, G_obs_acc_lt_so, axes[:,1],xmax=25, label='w/ lifetimes')"
   ]
  },
  {
   "cell_type": "code",
   "execution_count": null,
   "id": "ce83d079",
   "metadata": {},
   "outputs": [],
   "source": []
  },
  {
   "cell_type": "code",
   "execution_count": null,
   "id": "ec7dab3c",
   "metadata": {},
   "outputs": [],
   "source": []
  }
 ],
 "metadata": {
  "kernelspec": {
   "display_name": "p4env",
   "language": "python",
   "name": "p4env"
  },
  "language_info": {
   "codemirror_mode": {
    "name": "ipython",
    "version": 3
   },
   "file_extension": ".py",
   "mimetype": "text/x-python",
   "name": "python",
   "nbconvert_exporter": "python",
   "pygments_lexer": "ipython3",
   "version": "3.10.4"
  },
  "vscode": {
   "interpreter": {
    "hash": "5888a615eabaec2963c61a3a46285af3d9d56861df99886958dd3acd6112f8f8"
   }
  }
 },
 "nbformat": 4,
 "nbformat_minor": 5
}
