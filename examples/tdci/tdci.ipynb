{
 "cells": [
  {
   "cell_type": "code",
   "execution_count": 1,
   "id": "dd85fbd0",
   "metadata": {},
   "outputs": [],
   "source": [
    "import numpy as np\n",
    "import pyci\n",
    "import psi4"
   ]
  },
  {
   "cell_type": "code",
   "execution_count": 2,
   "id": "6b8b8201",
   "metadata": {},
   "outputs": [
    {
     "name": "stdout",
     "output_type": "stream",
     "text": [
      "Size of the ERI tensor will be 0.04 Gb\n",
      "\n",
      "Ground state SCF Energy : -2.86152200 \n",
      "\n",
      "Nuclear repulsion energy : 0.00000000 \n",
      "\n",
      "Total electronic energy : -2.86152200 \n",
      "\n"
     ]
    }
   ],
   "source": [
    "# Lets intiate AOint() a subclass of psi4utils() \n",
    "aoint = pyci.utils.AOint('aug-cc-pvqz', '../.xyz/He.xyz')\n",
    "# saves all the necessary integrals as .npz files\n",
    "aoint.save_all_aoints()\n",
    "aoint.save_ao_dpints()\n",
    "aoint.save_ao_qdints()\n",
    "# run scf and get info for canonical HF orbitals\n",
    "aoint.save_mo_info()\n",
    "# lets load  ao_erints, mo_info and try to get the CIS matrix\n",
    "ao_erints = np.load('ao_erints.npz')['electron_repulsion_aoints'] \n",
    "eps_a = np.load('mo_scf_info.npz')['eps_a']\n",
    "Ca = np.load('mo_scf_info.npz')['Ca'] \n",
    "ao_dipoles = np.load('ao_dpints.npz')\n",
    "ao_quadrupoles = np.load('ao_qdints.npz')\n",
    "# lets convert our erints from AO basis to MO basis\n",
    "mo_erints = aoint.eri_ao2mo(Ca, ao_erints)\n",
    "mo_dpx = aoint.matrix_ao2mo(Ca, ao_dipoles['dpx_aoints'])\n",
    "mo_dpy = aoint.matrix_ao2mo(Ca, ao_dipoles['dpy_aoints'])\n",
    "mo_dpz = aoint.matrix_ao2mo(Ca, ao_dipoles['dpz_aoints'])\n",
    "mo_qdxx = aoint.matrix_ao2mo(Ca, ao_quadrupoles['qdxx_aoints'])\n",
    "mo_qdyy = aoint.matrix_ao2mo(Ca, ao_quadrupoles['qdyy_aoints'])\n",
    "mo_qdzz = aoint.matrix_ao2mo(Ca, ao_quadrupoles['qdzz_aoints'])\n",
    "del ao_erints, ao_dipoles, ao_quadrupoles"
   ]
  },
  {
   "cell_type": "code",
   "execution_count": 3,
   "id": "51f7ee02",
   "metadata": {},
   "outputs": [
    {
     "name": "stdout",
     "output_type": "stream",
     "text": [
      " ORBITAL INFORMATION  \n",
      "-----------------------\n",
      "Basis functions   : 46  \n",
      "Molecular orbitals: 46  \n",
      "Spin Orbitals     : 92  \n",
      "Alpha Orbitals    : 1  \n",
      "Beta Orbitals     : 1  \n",
      "Occupied Orbitals : 1  \n",
      "Virtual Orbitals  : 45  \n",
      "\n"
     ]
    }
   ],
   "source": [
    "nbf, nmo, nso, na, nb, nocc, nvirt = aoint.get_orb_info(aoint.wfn)"
   ]
  },
  {
   "cell_type": "code",
   "execution_count": 4,
   "id": "83fff4e1",
   "metadata": {},
   "outputs": [],
   "source": [
    "scf_energy = aoint.scf_energy\n",
    "psi4_cisd = psi4.energy('CISD')"
   ]
  },
  {
   "cell_type": "code",
   "execution_count": 5,
   "id": "e3072be0",
   "metadata": {},
   "outputs": [
    {
     "data": {
      "text/plain": [
       "([1, 45, 45, 990, 0, 0, 0], 1081)"
      ]
     },
     "execution_count": 5,
     "metadata": {},
     "output_type": "execute_result"
    }
   ],
   "source": [
    "orbinfo = (nocc, nmo)\n",
    "active_space = (nocc,nvirt)\n",
    "options = { 'singles' : True,\n",
    "            'full_cis' : True,\n",
    "            'doubles' : True,\n",
    "            'doubles_iiaa' : True,\n",
    "            'doubles_iiab' : True,\n",
    "            'doubles_ijaa' : True,\n",
    "            'doubles_ijab_A' : True,\n",
    "            'doubles_ijab_B' : True}\n",
    "csfs, num_csfs = pyci.configint.rcisd.generate_csfs(orbinfo, active_space, options)\n",
    "num_csfs, sum(num_csfs)"
   ]
  },
  {
   "cell_type": "code",
   "execution_count": 6,
   "id": "05a8a930",
   "metadata": {},
   "outputs": [],
   "source": [
    "HCISD = pyci.configint.rcisd.comp_hcisd(eps_a, mo_erints, scf_energy, orbinfo, active_space, options, ncore=2)"
   ]
  },
  {
   "cell_type": "code",
   "execution_count": 7,
   "id": "04304b1d",
   "metadata": {},
   "outputs": [],
   "source": [
    "HCISD0 = HCISD - scf_energy*np.eye(sum(num_csfs))\n",
    "vals, vecs = np.linalg.eigh(HCISD0)\n",
    "vals_scaled = vals + scf_energy"
   ]
  },
  {
   "cell_type": "code",
   "execution_count": 9,
   "id": "ca913773",
   "metadata": {},
   "outputs": [
    {
     "data": {
      "text/plain": [
       "(-2.9025335994179526, -2.9025335994179478, 4.884981308350689e-15)"
      ]
     },
     "execution_count": 9,
     "metadata": {},
     "output_type": "execute_result"
    }
   ],
   "source": [
    "vals_scaled[0], psi4_cisd, abs(vals_scaled[0] - psi4_cisd)"
   ]
  },
  {
   "cell_type": "code",
   "execution_count": 10,
   "id": "2c0a8f92",
   "metadata": {},
   "outputs": [],
   "source": [
    "csf_dpx  = pyci.configint.rcisd.comp_oeprop_matrix(mo_dpx, orbinfo, active_space, options)\n",
    "csf_dpy  = pyci.configint.rcisd.comp_oeprop_matrix(mo_dpy, orbinfo, active_space, options)\n",
    "csf_dpz  = pyci.configint.rcisd.comp_oeprop_matrix(mo_dpz, orbinfo, active_space, options)"
   ]
  },
  {
   "cell_type": "code",
   "execution_count": 11,
   "id": "89ff044e",
   "metadata": {},
   "outputs": [],
   "source": [
    "from pyci.integrators import RK4\n",
    "from pyci.utils import excite"
   ]
  },
  {
   "cell_type": "code",
   "execution_count": 20,
   "id": "8a4fa0f2",
   "metadata": {},
   "outputs": [
    {
     "name": "stdout",
     "output_type": "stream",
     "text": [
      "<function <lambda> at 0x7f399f3dea70>\n"
     ]
    }
   ],
   "source": [
    "fs_to_au = 41.341374575751\n",
    "ti = 0.0 \n",
    "tf = 20.0*fs_to_au\n",
    "dt = 0.0001*fs_to_au \n",
    "sigma = 5.1*fs_to_au\n",
    "E0 = 0.07549\n",
    "w0 = 0.056\n",
    "phase = 0.0\n",
    "params = E0, w0, ti, 2*sigma, sigma, phase\n",
    "func = lambda t :  -1j * (HCISD0 - excite.sin2_pulse(t, params)*csf_dpz)\n",
    "psi0 = vecs[0]\n",
    "propagator = RK4(func, psi0, ti, tf, dt)"
   ]
  },
  {
   "cell_type": "code",
   "execution_count": 21,
   "id": "451a26ac",
   "metadata": {},
   "outputs": [],
   "source": [
    "psi, time = propagator._time_propagation()"
   ]
  },
  {
   "cell_type": "code",
   "execution_count": 17,
   "id": "9ec5d684",
   "metadata": {},
   "outputs": [],
   "source": [
    "dpz_moments = [abs(np.einsum('i,ij,j', np.conjugate(yi), csf_dpz, yi, optimize=True)) for yi in psi]"
   ]
  },
  {
   "cell_type": "code",
   "execution_count": 19,
   "id": "7659262c",
   "metadata": {},
   "outputs": [
    {
     "data": {
      "text/plain": [
       "[<matplotlib.lines.Line2D at 0x7f399f3e83a0>]"
      ]
     },
     "execution_count": 19,
     "metadata": {},
     "output_type": "execute_result"
    },
    {
     "data": {
      "image/png": "[encoded data removed]",
      "text/plain": [
       "<Figure size 720x576 with 1 Axes>"
      ]
     },
     "metadata": {},
     "output_type": "display_data"
    }
   ],
   "source": [
    "import matplotlib.pyplot as plt\n",
    "plt.figure(figsize=(10,8), facecolor='white')\n",
    "plt.plot(time, dpz_moments)"
   ]
  },
  {
   "cell_type": "code",
   "execution_count": null,
   "id": "c4fe8833",
   "metadata": {},
   "outputs": [],
   "source": []
  }
 ],
 "metadata": {
  "kernelspec": {
   "display_name": "p4env",
   "language": "python",
   "name": "p4env"
  },
  "language_info": {
   "codemirror_mode": {
    "name": "ipython",
    "version": 3
   },
   "file_extension": ".py",
   "mimetype": "text/x-python",
   "name": "python",
   "nbconvert_exporter": "python",
   "pygments_lexer": "ipython3",
   "version": "3.10.4"
  }
 },
 "nbformat": 4,
 "nbformat_minor": 5
}
