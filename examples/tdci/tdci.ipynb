{
 "cells": [
  {
   "cell_type": "code",
   "execution_count": null,
   "id": "dd85fbd0",
   "metadata": {},
   "outputs": [],
   "source": [
    "import numpy as np\n",
    "import pyci\n",
    "import psi4"
   ]
  },
  {
   "cell_type": "code",
   "execution_count": null,
   "id": "7e3806ad",
   "metadata": {},
   "outputs": [],
   "source": [
    "# ! s-type d-aug-cc-pVQZ functions\n",
    "# ! s-type ARO functions\n",
    "# ! p-type d-aug-cc-pVQZ functions\n",
    "# ! p-type ARO functions\n",
    "# ! d-type d-aug-cc-pVQZ functions\n",
    "# ! d-type ARO functions\n",
    "# ! f-type d-aug-cc-pVQZ functions\n",
    "# ! f-type ARO functions\n",
    "basis_dict = {\n",
    "      'basstring': \"\"\"\n",
    "****\n",
    "He     0\n",
    "S    7   1.00\n",
    "    528.5000000              0.0009400\n",
    "     79.3100000              0.0072140\n",
    "     18.0500000              0.0359750\n",
    "      5.0850000              0.1277820\n",
    "      1.6090000              0.3084700\n",
    "      0.5363000              0.4530520\n",
    "      0.1833000              0.2388840\n",
    "S    1   1.00\n",
    "      1.6090000              1.0000000\n",
    "S    1   1.00\n",
    "      0.5363000              1.0000000\n",
    "S    1   1.00\n",
    "      0.1833000              1.0000000\n",
    "S    1   1.00\n",
    "      0.0481900              1.0000000\n",
    "S    1   1.00\n",
    "      0.0127                 1.0000000\n",
    "S    1   1.00\n",
    "      4.142630e-01           1.0000000\n",
    "S    1   1.00\n",
    "      8.204444e-02           1.0000000\n",
    "S    1   1.00\n",
    "      2.244417e-02           1.0000000\n",
    "S    1   1.00\n",
    "      6.908733e-03           1.0000000\n",
    "S    1   1.00\n",
    "      2.252960e-03           1.0000000\n",
    "S    1   1.00\n",
    "      6.972017e-04           1.0000000\n",
    "P    1   1.00\n",
    "      5.9940000              1.0000000\n",
    "P    1   1.00\n",
    "      1.7450000              1.0000000\n",
    "P    1   1.00\n",
    "      0.5600000              1.0000000\n",
    "P    1   1.00\n",
    "      0.1626000              1.0000000\n",
    "P    1   1.00\n",
    "      0.0472                 1.0000000\n",
    "P    1   1.00\n",
    "      4.442081e-01           1.0000000\n",
    "P    1   1.00\n",
    "      9.422795e-02           1.0000000\n",
    "P    1   1.00\n",
    "      2.719846e-02           1.0000000\n",
    "P    1   1.00\n",
    "      8.859505e-03           1.0000000\n",
    "P    1   1.00\n",
    "      3.080030e-03           1.0000000\n",
    "P    1   1.00\n",
    "      1.066130e-03           1.0000000\n",
    "D    1   1.00\n",
    "      4.2990000              1.0000000\n",
    "D    1   1.00\n",
    "      1.2230000              1.0000000\n",
    "D    1   1.00\n",
    "      0.3510000              1.0000000\n",
    "D    1   1.00\n",
    "      0.101                  1.0000000\n",
    "D    1   1.00\n",
    "      3.348153e-01           1.0000000\n",
    "D    1   1.00\n",
    "      8.135966e-02           1.0000000\n",
    "D    1   1.00\n",
    "      2.631020e-02           1.0000000\n",
    "D    1   1.00\n",
    "      9.484616e-03           1.0000000\n",
    "D    1   1.00\n",
    "      3.635094e-03           1.0000000\n",
    "D    1   1.00\n",
    "      1.407186e-03           1.0000000\n",
    "F    1   1.00\n",
    "      2.6800000              1.0000000\n",
    "F    1   1.00\n",
    "      0.6906000              1.0000000\n",
    "F    1   1.00\n",
    "      0.178                  1.0000000\n",
    "F    1   1.00\n",
    "      3.463980e-01           1.0000000\n",
    "F    1   1.00\n",
    "      8.331040e-02           1.0000000\n",
    "F    1   1.00\n",
    "      2.805333e-02           1.0000000\n",
    "F    1   1.00\n",
    "      1.056283e-02           1.0000000\n",
    "F    1   1.00\n",
    "      4.235223e-03           1.0000000\n",
    "F    1   1.00\n",
    "      1.732138e-03           1.0000000\n",
    "****\n",
    "\"\"\",\n",
    "}"
   ]
  },
  {
   "cell_type": "code",
   "execution_count": null,
   "id": "3defc666",
   "metadata": {},
   "outputs": [],
   "source": [
    "# Lets intiate AOint() a subclass of psi4utils() \n",
    "aoint = pyci.utils.AOint('d-aug-cc-pVQZ+ARO6f', '../.xyz/He.xyz', psi4mem='8 Gb', numpymem=8, custom_basis=True, basis_dict=basis_dict)\n",
    "# saves all the necessary integrals as .npz files\n",
    "aoint.save_all_aoints()\n",
    "aoint.save_ao_dpints()\n",
    "aoint.save_ao_qdints()\n",
    "# run scf and get info for canonical HF orbitals\n",
    "aoint.save_mo_info()\n",
    "# lets load  ao_erints, mo_info and try to get the CIS matrix\n",
    "ao_erints = np.load('.scratch/ao_erints.npz')['electron_repulsion_aoints'] \n",
    "eps_a = np.load('.scratch/mo_scf_info.npz')['eps_a']\n",
    "Ca = np.load('.scratch/mo_scf_info.npz')['Ca'] \n",
    "ao_dipoles = np.load('.scratch/ao_dpints.npz')\n",
    "ao_quadrupoles = np.load('.scratch/ao_qdints.npz')\n",
    "# lets convert our erints from AO basis to MO basis\n",
    "mo_erints = aoint.eri_ao2mo(Ca, ao_erints, greedy=True)\n",
    "mo_dpx = aoint.matrix_ao2mo(Ca, ao_dipoles['dpx_aoints'])\n",
    "mo_dpy = aoint.matrix_ao2mo(Ca, ao_dipoles['dpy_aoints'])\n",
    "mo_dpz = aoint.matrix_ao2mo(Ca, ao_dipoles['dpz_aoints'])\n",
    "# mo_qdxx = aoint.matrix_ao2mo(Ca, ao_quadrupoles['qdxx_aoints'])\n",
    "# mo_qdyy = aoint.matrix_ao2mo(Ca, ao_quadrupoles['qdyy_aoints'])\n",
    "# mo_qdzz = aoint.matrix_ao2mo(Ca, ao_quadrupoles['qdzz_aoints'])\n",
    "del ao_erints, ao_dipoles, ao_quadrupoles"
   ]
  },
  {
   "cell_type": "code",
   "execution_count": null,
   "id": "51f7ee02",
   "metadata": {},
   "outputs": [],
   "source": [
    "nbf, nmo, nso, na, nb, nocc, nvirt = aoint.get_orb_info(aoint.wfn)"
   ]
  },
  {
   "cell_type": "code",
   "execution_count": null,
   "id": "83fff4e1",
   "metadata": {},
   "outputs": [],
   "source": [
    "scf_energy = aoint.scf_energy\n",
    "psi4_cisd = psi4.energy('CISD')"
   ]
  },
  {
   "cell_type": "code",
   "execution_count": null,
   "id": "e3072be0",
   "metadata": {},
   "outputs": [],
   "source": [
    "orbinfo = (nocc, nmo)\n",
    "active_space = (nocc,nvirt)\n",
    "options = { 'singles' : True,\n",
    "            'full_cis' : True,\n",
    "            'doubles' : True,\n",
    "            'doubles_iiaa' : True,\n",
    "            'doubles_iiab' : True,\n",
    "            'doubles_ijaa' : True,\n",
    "            'doubles_ijab_A' : True,\n",
    "            'doubles_ijab_B' : True}\n",
    "csfs, num_csfs = pyci.configint.rcisd.generate_csfs(orbinfo, active_space, options)\n",
    "num_csfs, sum(num_csfs)"
   ]
  },
  {
   "cell_type": "code",
   "execution_count": null,
   "id": "05a8a930",
   "metadata": {},
   "outputs": [],
   "source": [
    "HCISD = pyci.configint.rcisd.comp_hcisd(eps_a, mo_erints, scf_energy, orbinfo, active_space, options, ncore=4)"
   ]
  },
  {
   "cell_type": "code",
   "execution_count": null,
   "id": "04304b1d",
   "metadata": {},
   "outputs": [],
   "source": [
    "HCISD0 = HCISD - scf_energy*np.eye(sum(num_csfs))\n",
    "vals, vecs = np.linalg.eigh(HCISD0)\n",
    "vals_scaled = vals + scf_energy"
   ]
  },
  {
   "cell_type": "code",
   "execution_count": null,
   "id": "ca913773",
   "metadata": {},
   "outputs": [],
   "source": [
    "vals_scaled[0], psi4_cisd, abs(vals_scaled[0] - psi4_cisd)"
   ]
  },
  {
   "cell_type": "code",
   "execution_count": null,
   "id": "2c0a8f92",
   "metadata": {},
   "outputs": [],
   "source": [
    "csf_dpx  = pyci.configint.rcisd.comp_oeprop(mo_dpx, orbinfo, active_space, options)\n",
    "csf_dpy  = pyci.configint.rcisd.comp_oeprop(mo_dpy, orbinfo, active_space, options)\n",
    "csf_dpz  = pyci.configint.rcisd.comp_oeprop(mo_dpz, orbinfo, active_space, options)"
   ]
  },
  {
   "cell_type": "code",
   "execution_count": null,
   "id": "89ff044e",
   "metadata": {},
   "outputs": [],
   "source": [
    "from pyci.integrators import RK4\n",
    "from pyci.tdci import excite"
   ]
  },
  {
   "cell_type": "code",
   "execution_count": null,
   "id": "8a4fa0f2",
   "metadata": {},
   "outputs": [],
   "source": [
    "fs_to_au = 41.341374575751\n",
    "ti = 0.0 \n",
    "tf = 20.0*fs_to_au\n",
    "dt = 0.0001*fs_to_au \n",
    "sigma = 5.1*fs_to_au\n",
    "E0 = 0.07549\n",
    "w0 = 0.056\n",
    "phase = 0.0\n",
    "params = E0, w0, ti, 2*sigma, sigma, phase\n",
    "func = lambda t :  -1j * (HCISD0 - excite.sin2_pulse(t, params)*csf_dpz)\n",
    "psi0 = vecs[0]\n",
    "time_params =  ti, tf, dt\n",
    "propagator = RK4(func, psi0, time_params)"
   ]
  },
  {
   "cell_type": "code",
   "execution_count": null,
   "id": "451a26ac",
   "metadata": {},
   "outputs": [],
   "source": [
    "propagator._time_propagation(ops_list=[csf_dpx, csf_dpy, csf_dpz, HCISD], ops_headers=['dpx', 'dpy', 'dpz', 'energy'], print_nstep= 100, outfile='rk4_tdprop.txt')"
   ]
  },
  {
   "cell_type": "code",
   "execution_count": null,
   "id": "339e9e99",
   "metadata": {},
   "outputs": [],
   "source": [
    "from pyci.integrators.splitoperator import SplitOperator \n",
    "fs_to_au = 41.341374575751\n",
    "ti = 0.0 \n",
    "tf = 20.0*fs_to_au\n",
    "dt = 0.0001*fs_to_au \n",
    "sigma = 5.1*fs_to_au\n",
    "E0 = 0.07549\n",
    "w0 = 0.056\n",
    "phase = 0.0\n",
    "params = E0, w0, ti, 2*sigma, sigma, phase\n",
    "func = lambda t : (excite.sin2_pulse(t, params)*csf_dpz)\n",
    "psi0 = vecs[0]\n",
    "time_params =  ti, tf, dt\n",
    "propagator = SplitOperator(vals, vecs, func, psi0, time_params)"
   ]
  },
  {
   "cell_type": "code",
   "execution_count": null,
   "id": "fbb908c2",
   "metadata": {},
   "outputs": [],
   "source": [
    "propagator._time_propagation(ops_list=[csf_dpx, csf_dpy, csf_dpz, HCISD], ops_headers=['dpx', 'dpy', 'dpz', 'energy'], print_nstep= 100, outfile='so_tdprop.txt')"
   ]
  },
  {
   "cell_type": "code",
   "execution_count": null,
   "id": "a1cf0699",
   "metadata": {},
   "outputs": [],
   "source": [
    "from pyci.tdci.lifetime import heuristic\n",
    "model = heuristic(vals_scaled, vecs, csfs, eps_a)\n",
    "IP = 0.90357185430291 # 24.587387 eV\n",
    "ip_params = E0, w0, IP\n",
    "cmplx_vals = model.cmplx_energies(ip_params, use_d2=False)\n"
   ]
  },
  {
   "cell_type": "code",
   "execution_count": null,
   "id": "a503ba3c",
   "metadata": {},
   "outputs": [],
   "source": [
    "from pyci.integrators.splitoperator import SplitOperator \n",
    "fs_to_au = 41.341374575751\n",
    "ti = 0.0 \n",
    "tf = 20.0*fs_to_au\n",
    "dt = 0.0001*fs_to_au \n",
    "sigma = 5.1*fs_to_au\n",
    "E0 = 0.07549\n",
    "w0 = 0.056\n",
    "phase = 0.0\n",
    "params = E0, w0, ti, 2*sigma, sigma, phase\n",
    "func = lambda t : excite.sin2_pulse(t, params)*csf_dpz\n",
    "psi0 = vecs[0]\n",
    "time_params =  ti, tf, dt\n",
    "propagator = SplitOperator(cmplx_vals, vecs, func, psi0, time_params)"
   ]
  },
  {
   "cell_type": "code",
   "execution_count": null,
   "id": "144d8286",
   "metadata": {},
   "outputs": [],
   "source": [
    "propagator._time_propagation(ops_list=[csf_dpx, csf_dpy, csf_dpz, HCISD], ops_headers=['dpx', 'dpy', 'dpz', 'energy'], print_nstep= 2000, outfile='lt_so_tdprop.txt')"
   ]
  },
  {
   "cell_type": "code",
   "execution_count": null,
   "id": "4acf1753",
   "metadata": {},
   "outputs": [],
   "source": [
    "import numpy as np\n",
    "import matplotlib.pyplot as plt\n",
    "rk4_data = np.loadtxt('rk4_tdprop.txt',skiprows=1)\n",
    "so_data = np.loadtxt('so_tdprop.txt',skiprows=1)\n",
    "lt_so_data = np.loadtxt('lt_so_tdprop.txt',skiprows=1)\n",
    "plt.figure(figsize=(10,8), facecolor='white')\n",
    "plt.plot(rk4_data[:,0],rk4_data[:,4], '--', label='RK4 w/o lifetime')\n",
    "plt.plot(so_data[:,0],so_data[:,4], '--', label='SO w/o lifetime')\n",
    "plt.plot(lt_so_data[:,0],lt_so_data[:,4], '-.',label='w/ lifetime')\n",
    "plt.legend()"
   ]
  },
  {
   "cell_type": "code",
   "execution_count": null,
   "id": "2f40dfd4",
   "metadata": {},
   "outputs": [],
   "source": [
    "i = 5\n",
    "plt.figure(figsize=(10,8), facecolor='white')\n",
    "plt.plot(rk4_data[:,0], rk4_data[:,i]-rk4_data[0,i], '--', label='RK4 w/o lifetime')\n",
    "plt.plot(so_data[:,0], so_data[:,i]-so_data[0,i], '--', label='SO w/o lifetime')\n",
    "plt.plot(lt_so_data[:,0], lt_so_data[:,i]-lt_so_data[0,i], '-.',label='w/ lifetime')\n",
    "plt.legend()"
   ]
  },
  {
   "cell_type": "code",
   "execution_count": null,
   "id": "93298c51",
   "metadata": {},
   "outputs": [],
   "source": [
    "from numpy import fft\n",
    "from pyci.utils.units import fs_to_au\n",
    "\n",
    "def get_prop_data(filename):\n",
    "    prop_data = np.loadtxt(filename, skiprows=1)\n",
    "    time_fs = prop_data[:, 0]\n",
    "    norm = prop_data[:, 1]\n",
    "    X, Y, Z = prop_data[:, 2], prop_data[:, 3], prop_data[:, 4]\n",
    "    energy = prop_data[:, 5]\n",
    "    # Fx, Fy, Fz = prop_data[:, 7], prop_data[:, 8], prop_data[:, 9]\n",
    "    dipoles = (X,Y,Z)\n",
    "    # fields = (Fx, Fy, Fz)\n",
    "    return time_fs, dipoles, energy, norm\n",
    "\n",
    "def calc_moments(time_fs, observable):\n",
    "    time = time_fs * fs_to_au\n",
    "    velocity = np.gradient(observable, time)\n",
    "    acceleration = np.gradient(velocity, time)\n",
    "    return velocity, acceleration\n",
    "\n",
    "def calc_fft(time_fs, observable, dt_fs=1e-4, return_moments=False,\n",
    "             velocity=[0], acceleration=[0]):\n",
    "    dt_fs = time_fs[2]-time_fs[1]\n",
    "    dt = dt_fs * fs_to_au\n",
    "    time = time_fs * fs_to_au\n",
    "    freq = 2*np.pi*fft.fftfreq(len(time), dt) \n",
    "    obs_fft = fft.fft(observable)\n",
    "    if return_moments:\n",
    "        obs_vel_fft = fft.fft(velocity)\n",
    "        obs_acc_fft = fft.fft(acceleration)\n",
    "        return freq, obs_fft, obs_vel_fft, obs_acc_fft\n",
    "    else:\n",
    "        return freq, obs_fft\n",
    "\n",
    "def calc_Gobs(time_fs, observable, \n",
    "              return_moments=False, obs_vel=[0], obs_acc=[0], dt_fs=1e-4):\n",
    "    freq, obs_fft, obs_vel_fft, obs_acc_fft = calc_fft(time_fs, observable, dt_fs=dt_fs,\n",
    "                                                       return_moments=True,\n",
    "                                                       velocity=obs_vel,\n",
    "                                                       acceleration=obs_acc)\n",
    "    G_obs = abs(1/((time_fs[-1]-time_fs[0])*fs_to_au) * obs_fft)**2 \n",
    "    G_obs_vel = abs(1/((time_fs[-1]-time_fs[0])*fs_to_au) * obs_vel_fft)**2 \n",
    "    G_obs_acc = abs(1/((time_fs[-1]-time_fs[0])*fs_to_au) * obs_acc_fft)**2 \n",
    "    if return_moments:\n",
    "        return freq, G_obs, G_obs_vel, G_obs_acc\n",
    "    else:\n",
    "        return freq, G_obs\n",
    "\n",
    "def plot_hhg(freq, G_obs, G_obs_vel, G_obs_acc, axes, label, xmax=15, w0=0.056961578478002):\n",
    "    n = int(freq.shape[0]/2)\n",
    "    hhg =  (G_obs)[:n]\n",
    "    hhg_vel =  (G_obs_vel)[:n]\n",
    "    hhg_acc =  (G_obs_acc)[:n]\n",
    "\n",
    "    index_w0 = max(range(len(hhg)), key=hhg.__getitem__)\n",
    "    index_w0_vel = max(range(len(hhg_vel)), key=hhg_vel.__getitem__)\n",
    "    index_w0_acc = max(range(len(hhg_acc)), key=hhg_vel.__getitem__)\n",
    "\n",
    "    ho = freq[:n]/w0 \n",
    "    ho_vel = freq[:n]/w0 \n",
    "    ho_acc = freq[:n]/w0 \n",
    "\n",
    "    axes[0].plot(ho, hhg, linewidth=1.0, color='red', label=label+r': $\\frac{1}{|t_{f}- t_{i}|}\\int \\langle {D_{z}}(t)\\rangle e^{i\\omega t} dt$')\n",
    "    axes[0].legend(frameon=False, loc='upper right')\n",
    "    axes[0].set_yscale('log')\n",
    "    axes[0].set_xlim(0,xmax)\n",
    "    axes[0].tick_params(labelbottom=False)\n",
    "    axes[1].plot(ho_vel, hhg_vel, linewidth=1.0, color='blue', label=label+r': $\\frac{1}{|t_{f}- t_{i}|}\\int \\langle \\dot{D_{z}}(t)\\rangle e^{i\\omega t} dt$')\n",
    "    axes[1].legend(frameon=False, loc='upper right')\n",
    "    axes[1].set_yscale('log')\n",
    "    axes[1].set_xlim(0,xmax)\n",
    "    axes[1].tick_params(labelbottom=False)\n",
    "    axes[1].set_ylabel(r'Signal in (a.u.)', size=18)\n",
    "    axes[2].plot(ho_acc, hhg_acc, linewidth=1.0, color='orange', label=label+r': $\\frac{1}{|t_{f}- t_{i}|}\\int \\langle \\ddot{D_{z}}(t)\\rangle e^{i\\omega t} dt$')\n",
    "    axes[2].legend(frameon=False, loc='upper right')\n",
    "    axes[2].set_yscale('log')\n",
    "    axes[2].set_xlim(0,xmax)\n",
    "    axes[2].set_xlabel(r'harmonic order ($\\omega / \\omega_{0}$)', size=18)\n",
    "\n"
   ]
  },
  {
   "cell_type": "code",
   "execution_count": null,
   "id": "76314ad2",
   "metadata": {},
   "outputs": [],
   "source": [
    "def get_hhg_data(filename):\n",
    "    time_fs, dipoles, energy, norm = get_prop_data(filename)\n",
    "    dpz = dipoles[2]\n",
    "    dpz_vel, dpz_acc = calc_moments(time_fs,dpz)\n",
    "    freq, G_obs, G_obs_vel, G_obs_acc = calc_Gobs(time_fs, dpz, \n",
    "                                                return_moments=True, \n",
    "                                                obs_vel=dpz_vel, \n",
    "                                                obs_acc=dpz_acc, dt_fs=1e-4)\n",
    "    return freq, G_obs, G_obs_vel, G_obs_acc     \n",
    "\n",
    "fig, axes = plt.subplots(3,2, facecolor='white',figsize=(12,10))\n",
    "freq_so, G_obs_so, G_obs_vel_so, G_obs_acc_so = get_hhg_data('so_tdprop.txt')\n",
    "freq_lt_so, G_obs_lt_so, G_obs_vel_lt_so, G_obs_acc_lt_so = get_hhg_data('lt_so_tdprop.txt')\n",
    "plot_hhg(freq_so, G_obs_so, G_obs_vel_so, G_obs_acc_so, axes[:,0], xmax=25, label='w/o lifetimes')\n",
    "plot_hhg(freq_lt_so, G_obs_lt_so, G_obs_vel_lt_so, G_obs_acc_lt_so, axes[:,1],xmax=25, label='w/ lifetimes')"
   ]
  },
  {
   "cell_type": "code",
   "execution_count": null,
   "id": "1c29a71c",
   "metadata": {},
   "outputs": [],
   "source": [
    "Ecut = IP + 3.17*(E0/(4*w0))**2\n",
    "print(Ecut, Ecut/w0)\n"
   ]
  },
  {
   "cell_type": "code",
   "execution_count": null,
   "id": "96cb20ed",
   "metadata": {},
   "outputs": [],
   "source": [
    "plt.plot(vals_scaled)"
   ]
  },
  {
   "cell_type": "markdown",
   "id": "00ef4ac9",
   "metadata": {},
   "source": []
  }
 ],
 "metadata": {
  "kernelspec": {
   "display_name": "Python 3.8.12 ('forte')",
   "language": "python",
   "name": "python3"
  },
  "language_info": {
   "codemirror_mode": {
    "name": "ipython",
    "version": 3
   },
   "file_extension": ".py",
   "mimetype": "text/x-python",
   "name": "python",
   "nbconvert_exporter": "python",
   "pygments_lexer": "ipython3",
   "version": "3.8.12"
  },
  "vscode": {
   "interpreter": {
    "hash": "5888a615eabaec2963c61a3a46285af3d9d56861df99886958dd3acd6112f8f8"
   }
  }
 },
 "nbformat": 4,
 "nbformat_minor": 5
}
