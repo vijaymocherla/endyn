{
 "cells": [
  {
   "cell_type": "markdown",
   "metadata": {},
   "source": [
    "# CIS(D)"
   ]
  },
  {
   "cell_type": "code",
   "execution_count": 1,
   "metadata": {},
   "outputs": [],
   "source": [
    "import numpy as np\n",
    "import pyci\n",
    "import psi4\n",
    "from threadpoolctl import threadpool_limits\n",
    "from time import perf_counter\n"
   ]
  },
  {
   "cell_type": "code",
   "execution_count": 3,
   "metadata": {},
   "outputs": [
    {
     "name": "stdout",
     "output_type": "stream",
     "text": [
      "COMPUTING AO ELECTRON REPULSION INTEGRALS\n",
      "\n",
      "Size of the ERI tensor will be 0.97 Gb\n",
      "\n",
      "COMPUTING AO ONE ELECTRON INTEGRALS\n",
      "\n",
      "Ground state SCF Energy : -14.57297602 \n",
      "\n",
      "Nuclear repulsion energy : 0.00000000 \n",
      "\n",
      "Total electronic energy : -14.57297602 \n",
      "\n",
      " ORBITAL INFORMATION  \n",
      "-----------------------\n",
      "Basis functions   : 105  \n",
      "Molecular orbitals: 105  \n",
      "Spin Orbitals     : 210  \n",
      "Alpha Orbitals    : 2  \n",
      "Beta Orbitals     : 2  \n",
      "Occupied Orbitals : 2  \n",
      "Virtual Orbitals  : 103  \n",
      "\n",
      "Begining CISD calculation .....\n",
      "\n",
      "[1, 206, 0, 0, 0, 0, 0] 207\n",
      "Computing CISD Hamiltonian matrix with 11 cores \n",
      "\n"
     ]
    }
   ],
   "source": [
    "from pyci.configint.rcisd import CISD\n",
    "basis = 'aug-cc-pvqz'\n",
    "molfile = '../.xyz/Be.xyz'\n",
    "ncore = 11\n",
    "with threadpool_limits(limits=ncore, user_api='blas'):\n",
    "    mol = pyci.utils.molecule(basis, molfile, wd='./', ncore=ncore, psi4mem='210 Gb',\n",
    "                              numpymem=210, custom_basis=False, \n",
    "                              store_wfn=False, properties=['dipoles'], psi4options={'puream': False})\n",
    "\n",
    "\n",
    "print('Begining CISD calculation .....\\n')\n",
    "start = perf_counter()\n",
    "with threadpool_limits(limits=ncore, user_api='blas'):\n",
    "    cisd = CISD(mol, options={'doubles': False}, ncore=ncore)\n",
    "    ndim = sum(cisd.num_csfs)\n",
    "    print(cisd.num_csfs, ndim)\n",
    "    cisd.save_hcisd()\n",
    "stop = perf_counter()\n"
   ]
  },
  {
   "cell_type": "code",
   "execution_count": 4,
   "metadata": {},
   "outputs": [],
   "source": [
    "HCIS = np.load('cimat.npz')['HCISD']"
   ]
  },
  {
   "cell_type": "code",
   "execution_count": 5,
   "metadata": {},
   "outputs": [],
   "source": [
    "HCIS0 = HCIS - np.eye(sum(cisd.num_csfs))*mol.scf_energy\n",
    "ECIS, CCIS = np.linalg.eigh(HCIS0)"
   ]
  },
  {
   "cell_type": "code",
   "execution_count": 11,
   "metadata": {},
   "outputs": [
    {
     "ename": "AttributeError",
     "evalue": "'molecule' object has no attribute 'aoint'",
     "output_type": "error",
     "traceback": [
      "\u001b[0;31m---------------------------------------------------------------------------\u001b[0m",
      "\u001b[0;31mAttributeError\u001b[0m                            Traceback (most recent call last)",
      "\u001b[1;32m/data1/vijay/pyci/examples/cis(d)/cis_d.ipynb Cell 6\u001b[0m in \u001b[0;36m<cell line: 1>\u001b[0;34m()\u001b[0m\n\u001b[0;32m----> <a href='vscode-notebook-cell://ssh-remote%2B10.10.3.15/data1/vijay/pyci/examples/cis%28d%29/cis_d.ipynb#X11sdnNjb2RlLXJlbW90ZQ%3D%3D?line=0'>1</a>\u001b[0m ao_erints \u001b[39m=\u001b[39m mol\u001b[39m.\u001b[39;49maoint\u001b[39m.\u001b[39mget_ao_erints()\n\u001b[1;32m      <a href='vscode-notebook-cell://ssh-remote%2B10.10.3.15/data1/vijay/pyci/examples/cis%28d%29/cis_d.ipynb#X11sdnNjb2RlLXJlbW90ZQ%3D%3D?line=1'>2</a>\u001b[0m mo_so_erints \u001b[39m=\u001b[39m mol\u001b[39m.\u001b[39mget_mo_so_eri(mol\u001b[39m.\u001b[39mmo_eps, mol\u001b[39m.\u001b[39mmo_coeff, ao_erints)\n\u001b[1;32m      <a href='vscode-notebook-cell://ssh-remote%2B10.10.3.15/data1/vijay/pyci/examples/cis%28d%29/cis_d.ipynb#X11sdnNjb2RlLXJlbW90ZQ%3D%3D?line=2'>3</a>\u001b[0m mo_so_erints \u001b[39m=\u001b[39m mo_so_erints\u001b[39m.\u001b[39mtranspose(\u001b[39m0\u001b[39m,\u001b[39m2\u001b[39m,\u001b[39m1\u001b[39m,\u001b[39m3\u001b[39m)\n",
      "\u001b[0;31mAttributeError\u001b[0m: 'molecule' object has no attribute 'aoint'"
     ]
    }
   ],
   "source": [
    "ao_erints = mol.get_ao_erints()\n",
    "mo_so_erints = mol.get_mo_so_eri(mol.mo_eps, mol.mo_coeff, ao_erints)\n",
    "mo_so_erints = mo_so_erints.transpose(0,2,1,3)\n",
    "cis_d_class = pyci.configint.CIS_D(ECIS, CCIS, eps_a, mo_so_erints, (nocc, nmo))"
   ]
  },
  {
   "cell_type": "code",
   "execution_count": null,
   "metadata": {},
   "outputs": [],
   "source": [
    "# MP2 energy calculation\n",
    "print('\\nComputing MP2 corrections\\n')\n",
    "mp2_e = psi4.energy('mp2')\n",
    "print('PSI4 MP2 Ground state energy: %3.16f' % mp2_e)\n",
    "print('CALC MP2 Ground state energy: %3.16f' % (scf_energy+cis_d_class.comp_e0mp2()))\n",
    "print('Difference : %3.2E'%(scf_energy+cis_d_class.comp_e0mp2() - mp2_e))\n"
   ]
  },
  {
   "cell_type": "code",
   "execution_count": null,
   "metadata": {},
   "outputs": [],
   "source": [
    "e_cis_d = cis_d_class.comp_cis_d(50, ncores=4)"
   ]
  },
  {
   "cell_type": "code",
   "execution_count": null,
   "metadata": {},
   "outputs": [],
   "source": []
  }
 ],
 "metadata": {
  "kernelspec": {
   "display_name": "Python 3.8.12 ('p4env')",
   "language": "python",
   "name": "python3"
  },
  "language_info": {
   "codemirror_mode": {
    "name": "ipython",
    "version": 3
   },
   "file_extension": ".py",
   "mimetype": "text/x-python",
   "name": "python",
   "nbconvert_exporter": "python",
   "pygments_lexer": "ipython3",
   "version": "3.8.12"
  },
  "vscode": {
   "interpreter": {
    "hash": "3e7abe4ffeaeb1a3be4ee566368b7c52e06f13f5c3e16f57a0c7a33f3f47eefc"
   }
  }
 },
 "nbformat": 4,
 "nbformat_minor": 2
}
