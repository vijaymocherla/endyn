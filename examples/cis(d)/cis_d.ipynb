{
 "cells": [
  {
   "cell_type": "markdown",
   "metadata": {},
   "source": [
    "# CIS(D)"
   ]
  },
  {
   "cell_type": "code",
   "execution_count": 13,
   "metadata": {},
   "outputs": [],
   "source": [
    "import numpy as np\n",
    "import pyci\n",
    "import psi4"
   ]
  },
  {
   "cell_type": "code",
   "execution_count": 14,
   "metadata": {},
   "outputs": [
    {
     "name": "stdout",
     "output_type": "stream",
     "text": [
      "Size of the ERI tensor will be 0.03 Gb\n",
      "\n",
      "Ground state SCF Energy : -99.77249855 \n",
      "\n",
      "Nuclear repulsion energy : 27.84883421 \n",
      "\n",
      "Total electronic energy : -127.62133275 \n",
      "\n",
      "Using greedy eri_ao2mo transform\n",
      "\n"
     ]
    }
   ],
   "source": [
    "# Lets intiate AOint() a subclass of psi4utils() \n",
    "aoint = pyci.utils.AOint('6-31g*', '../.xyz/LiCN.xyz')\n",
    "# saves all the necessary integrals as .npz files\n",
    "aoint.save_all_aoints()\n",
    "# run scf and get info for canonical HF orbitals\n",
    "aoint.save_mo_info()\n",
    "# lets load  ao_erints, mo_info and try to get the CIS matrix\n",
    "ao_erints = np.load('.scratch/ao_erints.npz')['electron_repulsion_aoints'] \n",
    "eps_a = np.load('.scratch/mo_scf_info.npz')['eps_a']\n",
    "Ca = np.load('.scratch/mo_scf_info.npz')['Ca'] \n",
    "# lets convert our erints from AO basis to MO basis\n",
    "mo_erints = aoint.eri_ao2mo(Ca, ao_erints, greedy=True)\n",
    "del ao_erints"
   ]
  },
  {
   "cell_type": "code",
   "execution_count": 15,
   "metadata": {},
   "outputs": [
    {
     "name": "stdout",
     "output_type": "stream",
     "text": [
      " ORBITAL INFORMATION  \n",
      "-----------------------\n",
      "Basis functions   : 45  \n",
      "Molecular orbitals: 45  \n",
      "Spin Orbitals     : 90  \n",
      "Alpha Orbitals    : 8  \n",
      "Beta Orbitals     : 8  \n",
      "Occupied Orbitals : 8  \n",
      "Virtual Orbitals  : 37  \n",
      "\n"
     ]
    }
   ],
   "source": [
    "nbf, nmo, nso, na, nb, nocc, nvirt = aoint.get_orb_info(aoint.wfn)"
   ]
  },
  {
   "cell_type": "code",
   "execution_count": 16,
   "metadata": {},
   "outputs": [
    {
     "data": {
      "text/plain": [
       "([1, 296, 0, 0, 0, 0, 0], 297)"
      ]
     },
     "execution_count": 16,
     "metadata": {},
     "output_type": "execute_result"
    }
   ],
   "source": [
    "orbinfo = (nocc, nmo)\n",
    "active_space = (nocc,nvirt)\n",
    "singles = True\n",
    "full_cis = True\n",
    "doubles = False\n",
    "doubles_iiaa = False\n",
    "doubles_iiab = False\n",
    "doubles_ijaa = False\n",
    "doubles_ijab_A = False\n",
    "doubles_ijab_B = False\n",
    "options = [singles, full_cis, doubles,\n",
    "           doubles_iiaa, doubles_iiab,doubles_ijaa,\n",
    "           doubles_ijab_A, doubles_ijab_B]\n",
    "csfs, num_csfs = pyci.configint.rcisd.generate_csfs(orbinfo, active_space, options)\n",
    "num_csfs, sum(num_csfs)\n"
   ]
  },
  {
   "cell_type": "code",
   "execution_count": 17,
   "metadata": {},
   "outputs": [],
   "source": [
    "scf_energy = aoint.scf_energy"
   ]
  },
  {
   "cell_type": "code",
   "execution_count": 18,
   "metadata": {},
   "outputs": [],
   "source": [
    "HCIS = pyci.configint.rcisd.comp_hcisd(eps_a, mo_erints, scf_energy, orbinfo, active_space, options, ncore=2)"
   ]
  },
  {
   "cell_type": "code",
   "execution_count": 19,
   "metadata": {},
   "outputs": [],
   "source": [
    "HCIS0 = HCIS - np.eye(sum(num_csfs))*scf_energy\n",
    "ECIS, CCIS = np.linalg.eigh(HCIS0)"
   ]
  },
  {
   "cell_type": "code",
   "execution_count": 8,
   "metadata": {},
   "outputs": [],
   "source": [
    "mo_so_erints = aoint.eri_mo2so_psi4(Ca, Ca)\n",
    "mo_so_erints = mo_so_erints.transpose(0,2,1,3)\n",
    "cis_d_class = pyci.configint.CIS_D(ECIS, CCIS, eps_a, mo_so_erints, (nocc, nmo))"
   ]
  },
  {
   "cell_type": "code",
   "execution_count": 9,
   "metadata": {},
   "outputs": [
    {
     "name": "stdout",
     "output_type": "stream",
     "text": [
      "\n",
      "Computing MP2 corrections\n",
      "\n",
      "PSI4 MP2 Ground state energy: -100.0658987157554378\n",
      "CALC MP2 Ground state energy: -100.0658202048036145\n",
      "Difference : 7.85E-05\n"
     ]
    }
   ],
   "source": [
    "# MP2 energy calculation\n",
    "print('\\nComputing MP2 corrections\\n')\n",
    "mp2_e = psi4.energy('mp2')\n",
    "print('PSI4 MP2 Ground state energy: %3.16f' % mp2_e)\n",
    "print('CALC MP2 Ground state energy: %3.16f' % (scf_energy+cis_d_class.comp_e0mp2()))\n",
    "print('Difference : %3.2E'%(scf_energy+cis_d_class.comp_e0mp2() - mp2_e))\n"
   ]
  },
  {
   "cell_type": "code",
   "execution_count": 10,
   "metadata": {},
   "outputs": [
    {
     "name": "stdout",
     "output_type": "stream",
     "text": [
      "Ei_d_corr \t Ei_t_corr \t Ei_corr \t Ei_cis(d)\n",
      "-0.0000 \t 0.0000 \t 0.0000 \t 0.0000\n",
      "-0.0704 \t 0.1044 \t 0.0340 \t 0.2730\n",
      "-0.0949 \t 0.0785 \t -0.0165 \t 0.2253\n",
      "-0.0949 \t 0.0785 \t -0.0165 \t 0.2253\n",
      "-0.0752 \t 0.1020 \t 0.0268 \t 0.2747\n",
      "-0.0752 \t 0.1020 \t 0.0268 \t 0.2747\n",
      "-0.1076 \t 0.0481 \t -0.0595 \t 0.2035\n",
      "-0.1105 \t 0.0674 \t -0.0431 \t 0.2460\n",
      "-0.1105 \t 0.0674 \t -0.0431 \t 0.2460\n",
      "-0.0972 \t 0.0751 \t -0.0221 \t 0.2807\n",
      "-0.0831 \t 0.0901 \t 0.0070 \t 0.3372\n",
      "-0.0806 \t 0.0804 \t -0.0003 \t 0.3321\n",
      "-0.0806 \t 0.0804 \t -0.0003 \t 0.3321\n",
      "-0.0828 \t 0.0937 \t 0.0110 \t 0.3464\n",
      "-0.0828 \t 0.0937 \t 0.0110 \t 0.3464\n",
      "-0.1030 \t 0.0744 \t -0.0286 \t 0.3406\n",
      "-0.1030 \t 0.0744 \t -0.0286 \t 0.3406\n",
      "-0.1184 \t 0.0524 \t -0.0660 \t 0.3165\n",
      "-0.1827 \t 0.0535 \t -0.1292 \t 0.2631\n",
      "-0.1381 \t 0.0576 \t -0.0805 \t 0.3371\n",
      "-0.1381 \t 0.0576 \t -0.0805 \t 0.3371\n",
      "-0.1034 \t 0.0731 \t -0.0303 \t 0.3928\n",
      "-0.0986 \t 0.0755 \t -0.0231 \t 0.4094\n",
      "-0.0986 \t 0.0755 \t -0.0231 \t 0.4094\n",
      "-0.0950 \t 0.0799 \t -0.0151 \t 0.4340\n",
      "-0.0947 \t 0.0809 \t -0.0137 \t 0.4357\n",
      "-0.0947 \t 0.0809 \t -0.0137 \t 0.4357\n",
      "-0.1126 \t 0.0481 \t -0.0645 \t 0.3880\n",
      "-0.1341 \t 0.0540 \t -0.0801 \t 0.3955\n",
      "-0.1341 \t 0.0540 \t -0.0801 \t 0.3955\n",
      "-0.1390 \t 0.0593 \t -0.0797 \t 0.3995\n",
      "-0.1055 \t 0.0813 \t -0.0241 \t 0.4818\n",
      "-0.1055 \t 0.0813 \t -0.0241 \t 0.4818\n",
      "-0.1442 \t 0.0699 \t -0.0743 \t 0.4618\n",
      "-0.1442 \t 0.0699 \t -0.0743 \t 0.4618\n",
      "-0.1109 \t 0.0545 \t -0.0564 \t 0.4850\n",
      "-0.1217 \t 0.0528 \t -0.0689 \t 0.5115\n",
      "-0.1654 \t 0.0500 \t -0.1154 \t 0.4684\n",
      "-0.1806 \t 0.0579 \t -0.1227 \t 0.4897\n",
      "-0.1806 \t 0.0579 \t -0.1227 \t 0.4897\n",
      "-0.1874 \t 0.0557 \t -0.1317 \t 0.5415\n",
      "-0.0917 \t 0.0459 \t -0.0457 \t 0.6950\n",
      "-0.0917 \t 0.0459 \t -0.0457 \t 0.6950\n",
      "-0.1033 \t 0.0768 \t -0.0265 \t 0.7211\n",
      "-0.1033 \t 0.0768 \t -0.0265 \t 0.7211\n",
      "-0.1049 \t 0.0767 \t -0.0282 \t 0.7219\n",
      "-0.1049 \t 0.0767 \t -0.0282 \t 0.7219\n",
      "-0.0808 \t 0.0836 \t 0.0028 \t 0.7915\n",
      "-0.0808 \t 0.0836 \t 0.0028 \t 0.7915\n",
      "-0.1003 \t 0.0820 \t -0.0183 \t 0.7788\n"
     ]
    }
   ],
   "source": [
    "e_cis_d = cis_d_class.comp_cis_d(50, ncores=4)"
   ]
  },
  {
   "cell_type": "code",
   "execution_count": 20,
   "metadata": {},
   "outputs": [
    {
     "ename": "NameError",
     "evalue": "name 'vecs' is not defined",
     "output_type": "error",
     "traceback": [
      "\u001b[0;31m---------------------------------------------------------------------------\u001b[0m",
      "\u001b[0;31mNameError\u001b[0m                                 Traceback (most recent call last)",
      "\u001b[0;32m/tmp/ipykernel_49742/1464245943.py\u001b[0m in \u001b[0;36m<module>\u001b[0;34m\u001b[0m\n\u001b[0;32m----> 1\u001b[0;31m \u001b[0mmatrix_eig\u001b[0m \u001b[0;34m=\u001b[0m \u001b[0mnp\u001b[0m\u001b[0;34m.\u001b[0m\u001b[0meinsum\u001b[0m\u001b[0;34m(\u001b[0m\u001b[0;34m'iA, AB, Bj'\u001b[0m\u001b[0;34m,\u001b[0m \u001b[0mvecs\u001b[0m\u001b[0;34m.\u001b[0m\u001b[0mT\u001b[0m\u001b[0;34m,\u001b[0m \u001b[0mHCIS\u001b[0m\u001b[0;34m,\u001b[0m \u001b[0mvecs\u001b[0m\u001b[0;34m,\u001b[0m \u001b[0moptimize\u001b[0m\u001b[0;34m=\u001b[0m\u001b[0;32mTrue\u001b[0m\u001b[0;34m)\u001b[0m\u001b[0;34m\u001b[0m\u001b[0;34m\u001b[0m\u001b[0m\n\u001b[0m",
      "\u001b[0;31mNameError\u001b[0m: name 'vecs' is not defined"
     ]
    }
   ],
   "source": [
    "matrix_eig = np.einsum('iA, AB, Bj-> ij', CCIS.T, HCIS, CCIS, optimize=True)\n"
   ]
  },
  {
   "cell_type": "code",
   "execution_count": null,
   "metadata": {},
   "outputs": [],
   "source": []
  }
 ],
 "metadata": {
  "interpreter": {
   "hash": "5888a615eabaec2963c61a3a46285af3d9d56861df99886958dd3acd6112f8f8"
  },
  "kernelspec": {
   "display_name": "Python 3.8.12 ('forte')",
   "language": "python",
   "name": "python3"
  },
  "language_info": {
   "codemirror_mode": {
    "name": "ipython",
    "version": 3
   },
   "file_extension": ".py",
   "mimetype": "text/x-python",
   "name": "python",
   "nbconvert_exporter": "python",
   "pygments_lexer": "ipython3",
   "version": "3.8.12"
  }
 },
 "nbformat": 4,
 "nbformat_minor": 2
}
