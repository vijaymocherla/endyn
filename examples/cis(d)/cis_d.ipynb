{
 "cells": [
  {
   "cell_type": "markdown",
   "metadata": {},
   "source": [
    "# CIS(D)"
   ]
  },
  {
   "cell_type": "code",
   "execution_count": 1,
   "metadata": {},
   "outputs": [],
   "source": [
    "import numpy as np\n",
    "import pyci"
   ]
  },
  {
   "cell_type": "code",
   "execution_count": 2,
   "metadata": {},
   "outputs": [
    {
     "name": "stdout",
     "output_type": "stream",
     "text": [
      "Size of the ERI tensor will be 0.03 Gb\n",
      "\n",
      "Ground state SCF Energy : -99.77229345 \n",
      "\n",
      "Nuclear repulsion energy : 27.84883421 \n",
      "\n",
      "Total electronic energy : -127.62112766 \n",
      "\n"
     ]
    }
   ],
   "source": [
    "# Lets intiate AOint() a subclass of psi4utils() \n",
    "aoint = pyci.AOint('6-31g*', 'licn.xyz')\n",
    "# saves all the necessary integrals as .npz files\n",
    "aoint.save_all_aoints()\n",
    "# run scf and get info for canonical HF orbitals\n",
    "aoint.save_mo_info()\n",
    "# lets load  ao_erints, mo_info and try to get the CIS matrix\n",
    "ao_erints = np.load('ao_erints.npz')['electron_repulsion_aoints'] \n",
    "eps_a = np.load('mo_scf_info.npz')['eps_a']\n",
    "Ca = np.load('mo_scf_info.npz')['Ca'] \n",
    "# lets convert our erints from AO basis to MO basis\n",
    "mo_erints = aoint.eri_ao2mo(Ca, ao_erints)\n",
    "del ao_erints"
   ]
  },
  {
   "cell_type": "code",
   "execution_count": 3,
   "metadata": {},
   "outputs": [
    {
     "name": "stdout",
     "output_type": "stream",
     "text": [
      " ORBITAL INFORMATION  \n",
      "-----------------------\n",
      "Basis functions   : 45  \n",
      "Spin Orbitals     : 90  \n",
      "Alpha Orbitals    : 8  \n",
      "Beta Orbitals     : 8  \n",
      "Occupied Orbitals : 8  \n",
      "Virtual Orbitals  : 37  \n",
      "\n"
     ]
    },
    {
     "data": {
      "text/plain": [
       "(45, 8, 8, 90, 8, 37)"
      ]
     },
     "execution_count": 3,
     "metadata": {},
     "output_type": "execute_result"
    }
   ],
   "source": [
    "aoint.get_orb_info(aoint.wfn)"
   ]
  },
  {
   "cell_type": "code",
   "execution_count": 4,
   "metadata": {},
   "outputs": [
    {
     "name": "stdout",
     "output_type": "stream",
     "text": [
      "All rows were computed successfully! \n",
      "\n"
     ]
    }
   ],
   "source": [
    "HCIS = pyci.comp_cis_hamiltonian(eps_a, mo_erints, (8, 37, 45), parallelised=True, ncore=10)"
   ]
  },
  {
   "cell_type": "code",
   "execution_count": 5,
   "metadata": {},
   "outputs": [],
   "source": [
    "ECIS, CCIS = np.linalg.eigh(HCIS)"
   ]
  },
  {
   "cell_type": "code",
   "execution_count": 6,
   "metadata": {},
   "outputs": [],
   "source": [
    "mo_so_erints = aoint.eri_mo2so(Ca, Ca)\n",
    "cis_d_class = pyci.CIS_D(ECIS, CCIS, eps_a, mo_so_erints, (8, 37, 45))"
   ]
  },
  {
   "cell_type": "code",
   "execution_count": 7,
   "metadata": {},
   "outputs": [
    {
     "name": "stdout",
     "output_type": "stream",
     "text": [
      "Ei_d_corr \t Ei_t_corr \t Ei_corr \t Ei_cis(d)\n",
      "-0.0000 \t 0.0000 \t 0.0000 \t 0.0000\n",
      "-0.0703 \t 0.1044 \t 0.0341 \t 0.2730\n",
      "-0.0949 \t 0.0785 \t -0.0164 \t 0.2253\n",
      "-0.0949 \t 0.0785 \t -0.0164 \t 0.2253\n",
      "-0.0752 \t 0.1020 \t 0.0268 \t 0.2747\n",
      "-0.0752 \t 0.1020 \t 0.0268 \t 0.2747\n",
      "-0.1105 \t 0.0674 \t -0.0431 \t 0.2460\n",
      "-0.1076 \t 0.0481 \t -0.0595 \t 0.2035\n",
      "-0.0972 \t 0.0751 \t -0.0220 \t 0.2807\n",
      "-0.0831 \t 0.0901 \t 0.0070 \t 0.3372\n",
      "-0.1105 \t 0.0674 \t -0.0431 \t 0.2460\n",
      "-0.0806 \t 0.0804 \t -0.0002 \t 0.3321\n",
      "-0.0806 \t 0.0804 \t -0.0002 \t 0.3321\n",
      "-0.0828 \t 0.0937 \t 0.0110 \t 0.3464\n",
      "-0.0828 \t 0.0937 \t 0.0110 \t 0.3464\n",
      "-0.1030 \t 0.0744 \t -0.0286 \t 0.3406\n",
      "-0.1030 \t 0.0744 \t -0.0286 \t 0.3406\n",
      "-0.1184 \t 0.0524 \t -0.0660 \t 0.3165\n",
      "-0.1827 \t 0.0535 \t -0.1292 \t 0.2631\n",
      "-0.1381 \t 0.0577 \t -0.0805 \t 0.3372\n",
      "-0.1381 \t 0.0577 \t -0.0805 \t 0.3372\n",
      "-0.1034 \t 0.0731 \t -0.0303 \t 0.3928\n",
      "-0.0986 \t 0.0755 \t -0.0232 \t 0.4093\n",
      "-0.0986 \t 0.0755 \t -0.0232 \t 0.4093\n",
      "-0.0950 \t 0.0799 \t -0.0151 \t 0.4340\n",
      "-0.0946 \t 0.0809 \t -0.0137 \t 0.4357\n",
      "-0.0946 \t 0.0809 \t -0.0137 \t 0.4357\n",
      "-0.1126 \t 0.0481 \t -0.0646 \t 0.3880\n",
      "-0.1341 \t 0.0540 \t -0.0802 \t 0.3955\n",
      "-0.1341 \t 0.0540 \t -0.0802 \t 0.3955\n",
      "-0.1390 \t 0.0593 \t -0.0797 \t 0.3995\n",
      "-0.1054 \t 0.0813 \t -0.0241 \t 0.4818\n",
      "-0.1054 \t 0.0813 \t -0.0241 \t 0.4818\n",
      "-0.1442 \t 0.0699 \t -0.0743 \t 0.4618\n",
      "-0.1442 \t 0.0699 \t -0.0743 \t 0.4618\n",
      "-0.1109 \t 0.0545 \t -0.0564 \t 0.4850\n",
      "-0.1214 \t 0.0528 \t -0.0686 \t 0.5118\n",
      "-0.1658 \t 0.0500 \t -0.1157 \t 0.4681\n",
      "-0.1807 \t 0.0579 \t -0.1228 \t 0.4897\n",
      "-0.1807 \t 0.0579 \t -0.1228 \t 0.4897\n",
      "-0.1874 \t 0.0557 \t -0.1317 \t 0.5415\n",
      "-0.0917 \t 0.0459 \t -0.0457 \t 0.6951\n",
      "-0.0917 \t 0.0459 \t -0.0457 \t 0.6951\n",
      "-0.1033 \t 0.0768 \t -0.0265 \t 0.7213\n",
      "-0.1033 \t 0.0768 \t -0.0265 \t 0.7213\n",
      "-0.1049 \t 0.0767 \t -0.0282 \t 0.7221\n",
      "-0.1049 \t 0.0767 \t -0.0282 \t 0.7221\n",
      "-0.0807 \t 0.0836 \t 0.0029 \t 0.7915\n",
      "-0.0807 \t 0.0836 \t 0.0029 \t 0.7915\n",
      "-0.1003 \t 0.0820 \t -0.0183 \t 0.7789\n"
     ]
    }
   ],
   "source": [
    "e_cis_d = cis_d_class.comp_cis_d(50, ncores=4)"
   ]
  },
  {
   "cell_type": "code",
   "execution_count": null,
   "metadata": {},
   "outputs": [],
   "source": []
  }
 ],
 "metadata": {
  "interpreter": {
   "hash": "1fdc66da555f4b539777d105e7035ee2a6250fef3e7861d20517c9a33bdee205"
  },
  "kernelspec": {
   "display_name": "psi4",
   "language": "python",
   "name": "python3"
  },
  "language_info": {
   "codemirror_mode": {
    "name": "ipython",
    "version": 3
   },
   "file_extension": ".py",
   "mimetype": "text/x-python",
   "name": "python",
   "nbconvert_exporter": "python",
   "pygments_lexer": "ipython3",
   "version": "3.8.11"
  }
 },
 "nbformat": 4,
 "nbformat_minor": 2
}
