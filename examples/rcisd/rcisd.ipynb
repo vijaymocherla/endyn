{
 "cells": [
  {
   "cell_type": "code",
   "execution_count": 1,
   "metadata": {},
   "outputs": [],
   "source": [
    "import numpy as np\n",
    "import pyci\n",
    "import psi4"
   ]
  },
  {
   "cell_type": "code",
   "execution_count": 6,
   "metadata": {},
   "outputs": [
    {
     "name": "stdout",
     "output_type": "stream",
     "text": [
      "Size of the ERI tensor will be 0.00 Gb\n",
      "\n",
      "Ground state SCF Energy : -14.57233763 \n",
      "\n",
      "Nuclear repulsion energy : 0.00000000 \n",
      "\n",
      "Total electronic energy : -14.57233763 \n",
      "\n",
      "!!!Warning: Using greedy eri_ao2mo transform\n",
      "\n"
     ]
    }
   ],
   "source": [
    "# Lets intiate AOint() a subclass of psi4utils() \n",
    "aoint = pyci.utils.AOint('cc-pvdz', '../.xyz/Be.xyz')\n",
    "# saves all the necessary integrals as .npz files\n",
    "aoint.save_all_aoints()\n",
    "aoint.save_ao_dpints()\n",
    "aoint.save_ao_qdints()\n",
    "# run scf and get info for canonical HF orbitals\n",
    "aoint.save_mo_info()\n",
    "# lets load  ao_erints, mo_info and try to get the CIS matrix\n",
    "ao_erints = np.load('.scratch/ao_erints.npz')['electron_repulsion_aoints'] \n",
    "eps_a = np.load('.scratch/mo_scf_info.npz')['eps_a']\n",
    "Ca = np.load('.scratch/mo_scf_info.npz')['Ca'] \n",
    "ao_dipoles = np.load('.scratch/ao_dpints.npz')\n",
    "ao_quadrupoles = np.load('.scratch/ao_qdints.npz')\n",
    "# lets convert our erints from AO basis to MO basis\n",
    "mo_erints = aoint.eri_ao2mo(Ca, ao_erints, greedy=True)\n",
    "# mo_dpx = aoint.matrix_ao2mo(Ca, ao_dipoles['dpx_aoints'])\n",
    "# mo_dpy = aoint.matrix_ao2mo(Ca, ao_dipoles['dpy_aoints'])\n",
    "# mo_dpz = aoint.matrix_ao2mo(Ca, ao_dipoles['dpz_aoints'])\n",
    "# mo_qdxx = aoint.matrix_ao2mo(Ca, ao_quadrupoles['qdxx_aoints'])\n",
    "# mo_qdyy = aoint.matrix_ao2mo(Ca, ao_quadrupoles['qdyy_aoints'])\n",
    "# mo_qdzz = aoint.matrix_ao2mo(Ca, ao_quadrupoles['qdzz_aoints'])\n",
    "del ao_erints, ao_dipoles, ao_quadrupoles"
   ]
  },
  {
   "cell_type": "code",
   "execution_count": 7,
   "metadata": {},
   "outputs": [
    {
     "name": "stdout",
     "output_type": "stream",
     "text": [
      " ORBITAL INFORMATION  \n",
      "-----------------------\n",
      "Basis functions   : 14  \n",
      "Molecular orbitals: 14  \n",
      "Spin Orbitals     : 28  \n",
      "Alpha Orbitals    : 2  \n",
      "Beta Orbitals     : 2  \n",
      "Occupied Orbitals : 2  \n",
      "Virtual Orbitals  : 12  \n",
      "\n"
     ]
    }
   ],
   "source": [
    "nbf, nmo, nso, na, nb, nocc, nvirt = aoint.get_orb_info(aoint.wfn)"
   ]
  },
  {
   "cell_type": "code",
   "execution_count": 8,
   "metadata": {},
   "outputs": [],
   "source": [
    "scf_energy = aoint.scf_energy"
   ]
  },
  {
   "cell_type": "code",
   "execution_count": 9,
   "metadata": {},
   "outputs": [
    {
     "data": {
      "text/plain": [
       "([1, 24, 24, 132, 12, 66, 66], 325)"
      ]
     },
     "execution_count": 9,
     "metadata": {},
     "output_type": "execute_result"
    }
   ],
   "source": [
    "orbinfo = (nocc, nmo)\n",
    "active_space = (nocc,nvirt)\n",
    "options = {'singles' : True,\n",
    "            'full_cis' : True,\n",
    "            'doubles' : True,\n",
    "            'doubles_iiaa' : True,\n",
    "            'doubles_iiab' : True,\n",
    "            'doubles_ijaa' : True,\n",
    "            'doubles_ijab_A' : True,\n",
    "            'doubles_ijab_B' : True}\n",
    "csfs, num_csfs = pyci.configint.rcisd.generate_csfs(orbinfo, active_space, options)\n",
    "num_csfs, sum(num_csfs)\n"
   ]
  },
  {
   "cell_type": "code",
   "execution_count": 10,
   "metadata": {},
   "outputs": [
    {
     "data": {
      "text/plain": [
       "list"
      ]
     },
     "execution_count": 10,
     "metadata": {},
     "output_type": "execute_result"
    }
   ],
   "source": [
    "type(csfs)"
   ]
  },
  {
   "cell_type": "code",
   "execution_count": 11,
   "metadata": {
    "scrolled": false
   },
   "outputs": [],
   "source": [
    "HCISD = pyci.configint.rcisd.comp_hcisd(eps_a, mo_erints, scf_energy, orbinfo, active_space, options, ncore=4)"
   ]
  },
  {
   "cell_type": "code",
   "execution_count": 12,
   "metadata": {},
   "outputs": [
    {
     "ename": "AttributeError",
     "evalue": "module 'pyci.lib.configint.rcisd' has no attribute 'comp_hrow_hf'",
     "output_type": "error",
     "traceback": [
      "\u001b[0;31m---------------------------------------------------------------------------\u001b[0m",
      "\u001b[0;31mAttributeError\u001b[0m                            Traceback (most recent call last)",
      "\u001b[0;32m/tmp/ipykernel_105455/3532808188.py\u001b[0m in \u001b[0;36m<module>\u001b[0;34m\u001b[0m\n\u001b[0;32m----> 1\u001b[0;31m \u001b[0mHCISD_c\u001b[0m \u001b[0;34m=\u001b[0m \u001b[0mpyci\u001b[0m\u001b[0;34m.\u001b[0m\u001b[0mconfigint\u001b[0m\u001b[0;34m.\u001b[0m\u001b[0mrcisd\u001b[0m\u001b[0;34m.\u001b[0m\u001b[0mc_comp_hcisd\u001b[0m\u001b[0;34m(\u001b[0m\u001b[0meps_a\u001b[0m\u001b[0;34m,\u001b[0m \u001b[0mmo_erints\u001b[0m\u001b[0;34m,\u001b[0m \u001b[0mscf_energy\u001b[0m\u001b[0;34m,\u001b[0m \u001b[0morbinfo\u001b[0m\u001b[0;34m,\u001b[0m \u001b[0mactive_space\u001b[0m\u001b[0;34m,\u001b[0m \u001b[0moptions\u001b[0m\u001b[0;34m,\u001b[0m \u001b[0mncore\u001b[0m\u001b[0;34m=\u001b[0m\u001b[0;36m4\u001b[0m\u001b[0;34m)\u001b[0m\u001b[0;34m\u001b[0m\u001b[0;34m\u001b[0m\u001b[0m\n\u001b[0m",
      "\u001b[0;32m~/anaconda3/envs/forte/lib/python3.8/site-packages/pyci/configint/rcisd.py\u001b[0m in \u001b[0;36mc_comp_hcisd\u001b[0;34m(mo_eps, mo_eris, scf_energy, orbinfo, active_space, options, ncore)\u001b[0m\n\u001b[1;32m    694\u001b[0m     \u001b[0mhcisd\u001b[0m \u001b[0;34m=\u001b[0m \u001b[0;34m[\u001b[0m\u001b[0;34m]\u001b[0m\u001b[0;34m\u001b[0m\u001b[0;34m\u001b[0m\u001b[0m\n\u001b[1;32m    695\u001b[0m     \u001b[0mP\u001b[0m \u001b[0;34m=\u001b[0m \u001b[0;36m0\u001b[0m\u001b[0;34m\u001b[0m\u001b[0;34m\u001b[0m\u001b[0m\n\u001b[0;32m--> 696\u001b[0;31m     \u001b[0mrow_hf\u001b[0m \u001b[0;34m=\u001b[0m \u001b[0mlib_rcisd\u001b[0m\u001b[0;34m.\u001b[0m\u001b[0mcomp_hrow_hf\u001b[0m\u001b[0;34m(\u001b[0m\u001b[0mmo_eps\u001b[0m\u001b[0;34m,\u001b[0m \u001b[0mmo_eris\u001b[0m\u001b[0;34m,\u001b[0m \u001b[0mscf_energy\u001b[0m\u001b[0;34m,\u001b[0m \u001b[0mcsfs\u001b[0m\u001b[0;34m,\u001b[0m \u001b[0mnum_csfs\u001b[0m\u001b[0;34m,\u001b[0m \u001b[0moptions\u001b[0m\u001b[0;34m)\u001b[0m\u001b[0;34m\u001b[0m\u001b[0;34m\u001b[0m\u001b[0m\n\u001b[0m\u001b[1;32m    697\u001b[0m     \u001b[0mhcisd\u001b[0m \u001b[0;34m+=\u001b[0m \u001b[0;34m[\u001b[0m\u001b[0mrow_hf\u001b[0m\u001b[0;34m]\u001b[0m\u001b[0;34m\u001b[0m\u001b[0;34m\u001b[0m\u001b[0m\n\u001b[1;32m    698\u001b[0m     \u001b[0mP\u001b[0m \u001b[0;34m+=\u001b[0m \u001b[0;36m1\u001b[0m\u001b[0;34m\u001b[0m\u001b[0;34m\u001b[0m\u001b[0m\n",
      "\u001b[0;31mAttributeError\u001b[0m: module 'pyci.lib.configint.rcisd' has no attribute 'comp_hrow_hf'"
     ]
    }
   ],
   "source": [
    "HCISD_c = pyci.configint.rcisd.c_comp_hcisd(eps_a, mo_erints, scf_energy, orbinfo, active_space, options, ncore=4)"
   ]
  },
  {
   "cell_type": "code",
   "execution_count": null,
   "metadata": {},
   "outputs": [],
   "source": [
    "HCISD.shape"
   ]
  },
  {
   "cell_type": "code",
   "execution_count": null,
   "metadata": {},
   "outputs": [],
   "source": [
    "# Comparing pyci with psi4\n",
    "from scipy.sparse.linalg import eigsh\n",
    "eval_cisd, evec_cisd = eigsh(HCISD0, k=1, which='SM')\n",
    "psi4_cisd = psi4.energy('CISD')\n",
    "print(\"pyci CISD E0: {e:16.16f}\".format(e=vals[0]))\n",
    "print(\"psi4 CISD E0: {e:16.16f}\".format(e=psi4_cisd))\n",
    "print(\"dE : {dE:1.2E}\".format(dE=abs(psi4_cisd-vals[0])))"
   ]
  },
  {
   "cell_type": "code",
   "execution_count": null,
   "metadata": {},
   "outputs": [],
   "source": [
    "# Computing all the eigen values\n",
    "HCISD0 = HCISD - np.eye(sum(num_csfs))*scf_energy\n",
    "vals, vecs = np.linalg.eigh(HCISD0)\n",
    "vals += scf_energy "
   ]
  },
  {
   "cell_type": "code",
   "execution_count": null,
   "metadata": {},
   "outputs": [],
   "source": []
  }
 ],
 "metadata": {
  "interpreter": {
   "hash": "5888a615eabaec2963c61a3a46285af3d9d56861df99886958dd3acd6112f8f8"
  },
  "kernelspec": {
   "display_name": "Python 3.8.12 ('forte')",
   "language": "python",
   "name": "python3"
  },
  "language_info": {
   "codemirror_mode": {
    "name": "ipython",
    "version": 3
   },
   "file_extension": ".py",
   "mimetype": "text/x-python",
   "name": "python",
   "nbconvert_exporter": "python",
   "pygments_lexer": "ipython3",
   "version": "3.8.12"
  },
  "vscode": {
   "interpreter": {
    "hash": "580805655b81dec648d146f59d2e80230de3175ddeff1a2b8aa6fe49e4f72883"
   }
  }
 },
 "nbformat": 4,
 "nbformat_minor": 2
}
