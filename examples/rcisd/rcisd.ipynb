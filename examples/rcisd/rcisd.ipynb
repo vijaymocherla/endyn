{
 "cells": [
  {
   "cell_type": "code",
   "execution_count": 1,
   "metadata": {},
   "outputs": [],
   "source": [
    "import numpy as np\n",
    "import pyci\n",
    "import psi4"
   ]
  },
  {
   "cell_type": "code",
   "execution_count": 2,
   "metadata": {},
   "outputs": [
    {
     "name": "stdout",
     "output_type": "stream",
     "text": [
      "Size of the ERI tensor will be 0.33 Gb\n",
      "\n",
      "Ground state SCF Energy : -2.86162693 \n",
      "\n",
      "Nuclear repulsion energy : 0.00000000 \n",
      "\n",
      "Total electronic energy : -2.86162693 \n",
      "\n"
     ]
    }
   ],
   "source": [
    "# Lets intiate AOint() a subclass of psi4utils() \n",
    "aoint = pyci.utils.AOint('aug-cc-pv5z', 'He.xyz')\n",
    "# saves all the necessary integrals as .npz files\n",
    "aoint.save_all_aoints()\n",
    "aoint.save_ao_dpints()\n",
    "aoint.save_ao_qdints()\n",
    "# run scf and get info for canonical HF orbitals\n",
    "aoint.save_mo_info()\n",
    "# lets load  ao_erints, mo_info and try to get the CIS matrix\n",
    "ao_erints = np.load('ao_erints.npz')['electron_repulsion_aoints'] \n",
    "eps_a = np.load('mo_scf_info.npz')['eps_a']\n",
    "Ca = np.load('mo_scf_info.npz')['Ca'] \n",
    "ao_dipoles = np.load('ao_dpints.npz')\n",
    "ao_quadrupoles = np.load('ao_qdints.npz')\n",
    "# lets convert our erints from AO basis to MO basis\n",
    "mo_erints = aoint.eri_ao2mo(Ca, ao_erints)\n",
    "mo_dpx = aoint.matrix_ao2mo(Ca, ao_dipoles['dpx_aoints'])\n",
    "mo_dpy = aoint.matrix_ao2mo(Ca, ao_dipoles['dpy_aoints'])\n",
    "mo_dpz = aoint.matrix_ao2mo(Ca, ao_dipoles['dpz_aoints'])\n",
    "mo_qdxx = aoint.matrix_ao2mo(Ca, ao_quadrupoles['qdxx_aoints'])\n",
    "mo_qdyy = aoint.matrix_ao2mo(Ca, ao_quadrupoles['qdyy_aoints'])\n",
    "mo_qdzz = aoint.matrix_ao2mo(Ca, ao_quadrupoles['qdzz_aoints'])\n",
    "del ao_erints, ao_dipoles, ao_quadrupoles"
   ]
  },
  {
   "cell_type": "code",
   "execution_count": 3,
   "metadata": {},
   "outputs": [
    {
     "name": "stdout",
     "output_type": "stream",
     "text": [
      " ORBITAL INFORMATION  \n",
      "-----------------------\n",
      "Basis functions   : 80  \n",
      "Molecular orbitals: 80  \n",
      "Spin Orbitals     : 160  \n",
      "Alpha Orbitals    : 1  \n",
      "Beta Orbitals     : 1  \n",
      "Occupied Orbitals : 1  \n",
      "Virtual Orbitals  : 79  \n",
      "\n"
     ]
    }
   ],
   "source": [
    "nbf, nmo, nso, na, nb, nocc, nvirt = aoint.get_orb_info(aoint.wfn)"
   ]
  },
  {
   "cell_type": "code",
   "execution_count": 4,
   "metadata": {},
   "outputs": [],
   "source": [
    "scf_energy = aoint.scf_energy\n",
    "psi4_cisd = psi4.energy('CISD')"
   ]
  },
  {
   "cell_type": "code",
   "execution_count": 5,
   "metadata": {},
   "outputs": [
    {
     "data": {
      "text/plain": [
       "([1, 79, 79, 3081, 0, 0, 0], 3240)"
      ]
     },
     "execution_count": 5,
     "metadata": {},
     "output_type": "execute_result"
    }
   ],
   "source": [
    "orbinfo = (nocc, nmo)\n",
    "active_space = (nocc,nvirt)\n",
    "singles = True\n",
    "full_cis = True\n",
    "doubles = True\n",
    "doubles_iiaa = True\n",
    "doubles_iiab = True\n",
    "doubles_ijaa = True\n",
    "doubles_ijab_A = True\n",
    "doubles_ijab_B = True\n",
    "options = [singles, full_cis, doubles,\n",
    "           doubles_iiaa, doubles_iiab,doubles_ijaa,\n",
    "           doubles_ijab_A, doubles_ijab_B]\n",
    "csfs, num_csfs = pyci.configint.rcisd.generate_csfs(orbinfo, active_space, options)\n",
    "num_csfs, sum(num_csfs)\n"
   ]
  },
  {
   "cell_type": "code",
   "execution_count": 6,
   "metadata": {},
   "outputs": [
    {
     "data": {
      "text/plain": [
       "list"
      ]
     },
     "execution_count": 6,
     "metadata": {},
     "output_type": "execute_result"
    }
   ],
   "source": [
    "type(csfs)"
   ]
  },
  {
   "cell_type": "code",
   "execution_count": 7,
   "metadata": {
    "scrolled": false
   },
   "outputs": [],
   "source": [
    "HCISD = pyci.configint.rcisd.comp_hcisd(eps_a, mo_erints, scf_energy, orbinfo, active_space, options, ncore=2)"
   ]
  },
  {
   "cell_type": "code",
   "execution_count": 8,
   "metadata": {},
   "outputs": [
    {
     "data": {
      "text/plain": [
       "(3240, 3240)"
      ]
     },
     "execution_count": 8,
     "metadata": {},
     "output_type": "execute_result"
    }
   ],
   "source": [
    "HCISD.shape"
   ]
  },
  {
   "cell_type": "code",
   "execution_count": 9,
   "metadata": {},
   "outputs": [],
   "source": [
    "vals, vecs = np.linalg.eigh(HCISD)"
   ]
  },
  {
   "cell_type": "code",
   "execution_count": 10,
   "metadata": {},
   "outputs": [
    {
     "name": "stdout",
     "output_type": "stream",
     "text": [
      "pyci CISD E0: -2.9032005295396814\n",
      "psi4 CISD E0: -2.9032005295396721\n",
      "dE : 9.33E-15\n"
     ]
    }
   ],
   "source": [
    "# Comparing pyci with psi4\n",
    "print(\"pyci CISD E0: {e:16.16f}\".format(e=vals[0]))\n",
    "print(\"psi4 CISD E0: {e:16.16f}\".format(e=psi4_cisd))\n",
    "print(\"dE : {dE:1.2E}\".format(dE=abs(psi4_cisd-vals[0])))\n"
   ]
  },
  {
   "cell_type": "code",
   "execution_count": 11,
   "metadata": {},
   "outputs": [],
   "source": [
    "csf_dpx  = pyci.configint.rcisd.comp_oeprop_matrix(mo_dpx, orbinfo, active_space, options)\n",
    "csf_dpy  = pyci.configint.rcisd.comp_oeprop_matrix(mo_dpy, orbinfo, active_space, options)\n",
    "csf_dpz  = pyci.configint.rcisd.comp_oeprop_matrix(mo_dpz, orbinfo, active_space, options)\n",
    "csf_qdxx  = pyci.configint.rcisd.comp_oeprop_matrix(mo_qdxx, orbinfo, active_space, options)\n",
    "csf_qdyy  = pyci.configint.rcisd.comp_oeprop_matrix(mo_qdyy, orbinfo, active_space, options)\n",
    "csf_qdzz  = pyci.configint.rcisd.comp_oeprop_matrix(mo_qdzz, orbinfo, active_space, options)"
   ]
  },
  {
   "cell_type": "code",
   "execution_count": 12,
   "metadata": {},
   "outputs": [
    {
     "name": "stdout",
     "output_type": "stream",
     "text": [
      "0, -0.0067773767963527, 0.0108757353851584, -0.0004743206580641\n",
      "1, 0.0039954628429837, -0.0062828208550420, 0.0011213957846038\n",
      "2, 0.0222609603343498, -0.0082111775456521, -0.0291848959491724\n",
      "3, -0.0468482270569540, -0.0080564316899645, -0.0454043745571115\n",
      "4, 0.0448933152014449, 0.0085541372770124, -0.0323683741413576\n",
      "5, 0.0800768660672546, -0.1204200291678243, 0.0054608622246160\n",
      "6, -0.0185244584232795, -0.0345786517743020, 0.0297712174522053\n",
      "7, -0.0053057037294914, -0.0278461039560670, -0.0322233529768708\n",
      "8, -0.0544526634674205, 0.0162538211460427, -0.0182186962398267\n",
      "9, 0.0270789539456493, -0.0117539173866759, 0.0272368086600925\n"
     ]
    }
   ],
   "source": [
    "for i in range(10):\n",
    "    x = np.dot(vecs[i], np.dot(csf_dpx,vecs[i]))\n",
    "    y = np.dot(vecs[i], np.dot(csf_dpy,vecs[i]))\n",
    "    z = np.dot(vecs[i], np.dot(csf_dpz,vecs[i]))\n",
    "    print('{i:1d}, {x:3.16f}, {y:3.16f}, {z:3.16f}'.format(i=i, x=x,y=y,z=z))"
   ]
  },
  {
   "cell_type": "code",
   "execution_count": null,
   "metadata": {},
   "outputs": [],
   "source": [
    "#  Dipoles data\n",
    "# 0, 0.000283004784, 0.000035013676, 0.015705522296\n",
    "# 1, 0.002917602220, 0.000673151423, 0.126488427923\n",
    "# 2, 0.030531534767, 0.000594146873, -0.014433641987\n",
    "# 3, 0.007507567538, 0.004000979317, 0.008836832031\n",
    "# 4, 0.017980763541, 0.040301175514, 0.020415968090\n",
    "# 5, 0.000220954675, 0.000120621738, 0.001989724419\n",
    "# 6, 0.013474841181, -0.091742093587, -0.171431961356\n",
    "# 7, 0.127483043223, 0.114134420569, -0.477323938172\n",
    "# 8, -0.110211330355, -0.057932619221, -0.191399979168\n",
    "# 9, -0.003589127667, -0.000760045647, -0.163052269270\n",
    "# Quadrupoles data\n",
    "# 0, -0.42547270, -0.43051704, -0.43176250,  1.287752\n",
    "# 1, -5.02241121, -5.02126484, -5.02801822,  15.071694\n",
    "# 2, -0.98754329, -2.71646871, -0.93718396,  4.641196\n",
    "# 3, -1.39868692, -1.12545165, -2.82703797,  5.351177\n",
    "# 4, -2.96151585, -1.38259467, -1.53044711,  5.874558\n",
    "# 5, -0.76163766, -0.69778652, -1.07033477,  2.529759\n",
    "# 6, -5.49423508, -5.40268524, -7.17795632,  18.074877\n",
    "# 7, -2.23722944, -3.72175897, -3.77558908,  9.734577\n",
    "# 8, -3.58304603, -2.22482522, -3.66498503,  9.472856\n",
    "# 9, -0.69069120, -0.72179435, -0.86955816,  2.282044"
   ]
  },
  {
   "cell_type": "code",
   "execution_count": null,
   "metadata": {},
   "outputs": [],
   "source": [
    "for i in range(10):\n",
    "    xx = np.dot(vecs[i], np.dot(csf_qdxx,vecs[i]))\n",
    "    yy = np.dot(vecs[i], np.dot(csf_qdyy,vecs[i]))\n",
    "    zz = np.dot(vecs[i], np.dot(csf_qdzz,vecs[i]))\n",
    "    r2 = abs(xx)+abs(yy)+abs(zz)\n",
    "    print('{i:1d}, {xx:3.8f}, {yy:3.8f}, {zz:3.8f}, {r2: 3.6f}'.format(i=i, xx=xx,yy=yy,zz=zz, r2=r2))"
   ]
  },
  {
   "cell_type": "code",
   "execution_count": null,
   "metadata": {},
   "outputs": [],
   "source": []
  }
 ],
 "metadata": {
  "kernelspec": {
   "display_name": "p4env",
   "language": "python",
   "name": "p4env"
  },
  "language_info": {
   "codemirror_mode": {
    "name": "ipython",
    "version": 3
   },
   "file_extension": ".py",
   "mimetype": "text/x-python",
   "name": "python",
   "nbconvert_exporter": "python",
   "pygments_lexer": "ipython3",
   "version": "3.10.4"
  },
  "vscode": {
   "interpreter": {
    "hash": "580805655b81dec648d146f59d2e80230de3175ddeff1a2b8aa6fe49e4f72883"
   }
  }
 },
 "nbformat": 4,
 "nbformat_minor": 2
}
