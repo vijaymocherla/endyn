{
 "cells": [
  {
   "cell_type": "code",
   "execution_count": 1,
   "metadata": {},
   "outputs": [],
   "source": [
    "import numpy as np\n",
    "import pyci\n",
    "import psi4"
   ]
  },
  {
   "cell_type": "code",
   "execution_count": 2,
   "metadata": {},
   "outputs": [
    {
     "name": "stdout",
     "output_type": "stream",
     "text": [
      "Size of the ERI tensor will be 0.97 Gb\n",
      "\n",
      "Ground state SCF Energy : -2.86162717 \n",
      "\n",
      "Nuclear repulsion energy : 0.00000000 \n",
      "\n",
      "Total electronic energy : -2.86162717 \n",
      "\n"
     ]
    }
   ],
   "source": [
    "# Lets intiate AOint() a subclass of psi4utils() \n",
    "aoint = pyci.AOint('d-aug-cc-pv5z', 'He.xyz')\n",
    "# saves all the necessary integrals as .npz files\n",
    "aoint.save_all_aoints()\n",
    "# run scf and get info for canonical HF orbitals\n",
    "aoint.save_mo_info()\n",
    "# lets load  ao_erints, mo_info and try to get the CIS matrix\n",
    "ao_erints = np.load('ao_erints.npz')['electron_repulsion_aoints'] \n",
    "eps_a = np.load('mo_scf_info.npz')['eps_a']\n",
    "Ca = np.load('mo_scf_info.npz')['Ca'] \n",
    "# lets convert our erints from AO basis to MO basis\n",
    "mo_erints = aoint.eri_ao2mo(Ca, ao_erints)\n",
    "del ao_erints"
   ]
  },
  {
   "cell_type": "code",
   "execution_count": 3,
   "metadata": {},
   "outputs": [
    {
     "name": "stdout",
     "output_type": "stream",
     "text": [
      " ORBITAL INFORMATION  \n",
      "-----------------------\n",
      "Basis functions   : 105  \n",
      "Molecular orbitals: 105  \n",
      "Spin Orbitals     : 210  \n",
      "Alpha Orbitals    : 1  \n",
      "Beta Orbitals     : 1  \n",
      "Occupied Orbitals : 1  \n",
      "Virtual Orbitals  : 104  \n",
      "\n"
     ]
    }
   ],
   "source": [
    "nbf, nmo, nso, na, nb, nocc, nvirt = aoint.get_orb_info(aoint.wfn)"
   ]
  },
  {
   "cell_type": "code",
   "execution_count": 4,
   "metadata": {},
   "outputs": [],
   "source": [
    "scf_energy = aoint.scf_energy\n",
    "psi4_cisd = psi4.energy('CISD')"
   ]
  },
  {
   "cell_type": "code",
   "execution_count": 5,
   "metadata": {},
   "outputs": [
    {
     "data": {
      "text/plain": [
       "([1, 104, 104, 5356, 0, 0, 0], 5565)"
      ]
     },
     "execution_count": 5,
     "metadata": {},
     "output_type": "execute_result"
    }
   ],
   "source": [
    "orbinfo = (nocc, nmo)\n",
    "active_space = (nocc,nvirt)\n",
    "singles = True\n",
    "full_cis = True\n",
    "doubles = True\n",
    "doubles_options = [True, True, True, True, True]\n",
    "options = singles, full_cis, doubles, doubles_options\n",
    "csfs, num_csfs = pyci.generate_csfs(orbinfo, active_space, options)\n",
    "num_csfs, sum(num_csfs)"
   ]
  },
  {
   "cell_type": "code",
   "execution_count": 6,
   "metadata": {},
   "outputs": [],
   "source": [
    "HCISD = pyci.comp_hcisd(eps_a, mo_erints, scf_energy, orbinfo, active_space, options, ncore=22)"
   ]
  },
  {
   "cell_type": "code",
   "execution_count": 8,
   "metadata": {},
   "outputs": [],
   "source": [
    "import os \n",
    "os.environ['OMP_NUM_THREADS']='22'\n"
   ]
  },
  {
   "cell_type": "code",
   "execution_count": 9,
   "metadata": {},
   "outputs": [],
   "source": [
    "vals, vecs = np.linalg.eigh(HCISD)"
   ]
  },
  {
   "cell_type": "code",
   "execution_count": 10,
   "metadata": {},
   "outputs": [
    {
     "name": "stdout",
     "output_type": "stream",
     "text": [
      "pyci CISD E0: -2.9032019441778978\n",
      "psi4 CISD E0: -2.9032019441778933\n",
      "dE : 4.44E-15\n"
     ]
    }
   ],
   "source": [
    "# Comparing pyci with psi4\n",
    "print(\"pyci CISD E0: {e:16.16f}\".format(e=vals[0]))\n",
    "print(\"psi4 CISD E0: {e:16.16f}\".format(e=psi4_cisd))\n",
    "print(\"dE : {dE:1.2E}\".format(dE=abs(psi4_cisd-vals[0])))\n"
   ]
  },
  {
   "cell_type": "code",
   "execution_count": null,
   "metadata": {},
   "outputs": [],
   "source": [
    "HCISD.shape"
   ]
  },
  {
   "cell_type": "code",
   "execution_count": null,
   "metadata": {},
   "outputs": [],
   "source": []
  }
 ],
 "metadata": {
  "kernelspec": {
   "display_name": "Python 3.9.12 ('p4env')",
   "language": "python",
   "name": "python3"
  },
  "language_info": {
   "codemirror_mode": {
    "name": "ipython",
    "version": 3
   },
   "file_extension": ".py",
   "mimetype": "text/x-python",
   "name": "python",
   "nbconvert_exporter": "python",
   "pygments_lexer": "ipython3",
   "version": "3.8.13"
  },
  "orig_nbformat": 4,
  "vscode": {
   "interpreter": {
    "hash": "580805655b81dec648d146f59d2e80230de3175ddeff1a2b8aa6fe49e4f72883"
   }
  }
 },
 "nbformat": 4,
 "nbformat_minor": 2
}
