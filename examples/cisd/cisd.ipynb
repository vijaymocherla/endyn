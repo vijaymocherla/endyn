{
 "cells": [
  {
   "cell_type": "code",
   "execution_count": 1,
   "metadata": {},
   "outputs": [],
   "source": [
    "from time import perf_counter\n",
    "from pyci.configint.rcisd import CISD\n",
    "from threadpoolctl import threadpool_limits\n",
    "import os\n",
    "os.environ['PSI_SCRATCH']='/data1/vijay/jcp_helium_paper/psi_scratch/'\n",
    "import psi4\n",
    "import pyci\n",
    "import numpy as np\n",
    "import sys"
   ]
  },
  {
   "cell_type": "code",
   "execution_count": 26,
   "metadata": {},
   "outputs": [
    {
     "name": "stdout",
     "output_type": "stream",
     "text": [
      "COMPUTING AO ELECTRON REPULSION INTEGRALS\n",
      "\n",
      "Size of the ERI tensor will be 0.33 Gb\n",
      "\n",
      "COMPUTING AO ONE ELECTRON INTEGRALS\n",
      "\n",
      "Ground state SCF Energy : -14.57296919 \n",
      "\n",
      "Nuclear repulsion energy : 0.00000000 \n",
      "\n",
      "Total electronic energy : -14.57296919 \n",
      "\n",
      " ORBITAL INFORMATION  \n",
      "-----------------------\n",
      "Basis functions   : 80  \n",
      "Molecular orbitals: 80  \n",
      "Spin Orbitals     : 160  \n",
      "Alpha Orbitals    : 2  \n",
      "Beta Orbitals     : 2  \n",
      "Occupied Orbitals : 2  \n",
      "Virtual Orbitals  : 78  \n",
      "\n",
      "[1, 156, 156, 6006, 78, 3003, 3003] 12403\n",
      "Computing CISD Hamiltonian matrix with 22 cores \n",
      "\n",
      "Diagonalizing HCISD matrix.....\n",
      "\n",
      "pyci CISD E0: -14.6381119078707052\n",
      "psi4 CISD E0: -14.6381119078707371\n",
      "dE : 3.20E-14\n",
      "\n"
     ]
    }
   ],
   "source": [
    "# Lets intiate AOint() a subclass of psi4utils()\n",
    "molfile = '../.xyz/Be.xyz'\n",
    "ncore = 22\n",
    "with threadpool_limits(limits=ncore, user_api='blas'):\n",
    "    mol = pyci.utils.molecule('aug-cc-pvqz', molfile=molfile, wd='./', ncore=ncore, psi4mem='210 Gb', numpymem=210,\n",
    "                              custom_basis=False, store_wfn=False, properties=['dipoles'], psi4options={'puream': True})\n",
    "with threadpool_limits(limits=ncore, user_api='blas'):\n",
    "    cisd = CISD(mol, \n",
    "                options={'singles': True,\n",
    "                         'full_cis': True,\n",
    "                         'doubles': True,\n",
    "                         'doubles_iiaa': True,\n",
    "                         'doubles_iiab': True,\n",
    "                         'doubles_ijaa': True,\n",
    "                         'doubles_ijab_A': True,\n",
    "                         'doubles_ijab_B': True}, ncore=ncore)\n",
    "    ndim = sum(cisd.num_csfs)\n",
    "    print(cisd.num_csfs, ndim)\n",
    "    cisd.save_hcisd()\n",
    "print('Diagonalizing HCISD matrix.....\\n')\n",
    "HCISD = np.load('cimat.npz')['HCISD']\n",
    "cisd_pyci = cisd.energy(HCISD)\n",
    "if cisd.options['doubles']:\n",
    "    cisd_psi4 = psi4.energy('CISD')\n",
    "else:\n",
    "    cisd_psi4 = psi4.energy('scf')\n",
    "print(\"pyci CISD E0: {e:16.16f}\".format(e=cisd_pyci))\n",
    "print(\"psi4 CISD E0: {e:16.16f}\".format(e=cisd_psi4))\n",
    "print(\"dE : {dE:1.2E}\\n\".format(dE=abs(cisd_psi4 - cisd_pyci)))\n"
   ]
  },
  {
   "cell_type": "code",
   "execution_count": 27,
   "metadata": {},
   "outputs": [
    {
     "data": {
      "text/plain": [
       "True"
      ]
     },
     "execution_count": 27,
     "metadata": {},
     "output_type": "execute_result"
    }
   ],
   "source": [
    "np.allclose(HCISD, HCISD.T)"
   ]
  },
  {
   "cell_type": "code",
   "execution_count": 28,
   "metadata": {},
   "outputs": [],
   "source": [
    "num_csfs = cisd.num_csfs\n",
    "idx = [sum(num_csfs[:i]) for i in range(1,8)]"
   ]
  },
  {
   "cell_type": "code",
   "execution_count": 29,
   "metadata": {},
   "outputs": [
    {
     "data": {
      "text/plain": [
       "[1, 157, 313, 6319, 6397, 9400, 12403]"
      ]
     },
     "execution_count": 29,
     "metadata": {},
     "output_type": "execute_result"
    }
   ],
   "source": [
    "idx"
   ]
  },
  {
   "cell_type": "code",
   "execution_count": 30,
   "metadata": {},
   "outputs": [],
   "source": [
    "i = 0\n",
    "block = HCISD[idx[i]:idx[i+1], idx[i]:idx[i+1]]\n",
    "cum_block = HCISD[:idx[i+1], :idx[i+1]]"
   ]
  },
  {
   "cell_type": "code",
   "execution_count": 31,
   "metadata": {},
   "outputs": [
    {
     "name": "stdout",
     "output_type": "stream",
     "text": [
      "(156, 156)\n",
      "block True\n",
      "(157, 157)\n",
      "cum_block True\n"
     ]
    }
   ],
   "source": [
    "print(block.shape)\n",
    "print('block', np.allclose(block, block.T))\n",
    "print(cum_block.shape)\n",
    "print('cum_block', np.allclose(block, block.T))\n"
   ]
  },
  {
   "cell_type": "code",
   "execution_count": null,
   "metadata": {},
   "outputs": [],
   "source": []
  }
 ],
 "metadata": {
  "kernelspec": {
   "display_name": "Python 3.8.12 ('p4env')",
   "language": "python",
   "name": "python3"
  },
  "language_info": {
   "codemirror_mode": {
    "name": "ipython",
    "version": 3
   },
   "file_extension": ".py",
   "mimetype": "text/x-python",
   "name": "python",
   "nbconvert_exporter": "python",
   "pygments_lexer": "ipython3",
   "version": "3.8.12"
  },
  "orig_nbformat": 4,
  "vscode": {
   "interpreter": {
    "hash": "3e7abe4ffeaeb1a3be4ee566368b7c52e06f13f5c3e16f57a0c7a33f3f47eefc"
   }
  }
 },
 "nbformat": 4,
 "nbformat_minor": 2
}
